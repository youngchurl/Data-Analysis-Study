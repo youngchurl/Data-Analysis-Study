{
 "cells": [
  {
   "cell_type": "code",
   "execution_count": 1,
   "id": "fa2a6d68",
   "metadata": {},
   "outputs": [],
   "source": [
    "import pandas as pd\n",
    "import numpy as np\n",
    "import matplotlib.pyplot as plt\n",
    "\n",
    "# 한글 적용을 위한 정리\n",
    "import matplotlib\n",
    "matplotlib.rcParams['font.family'] = 'Malgun Gothic'\n",
    "matplotlib.rcParams['axes.unicode_minus'] = False"
   ]
  },
  {
   "cell_type": "code",
   "execution_count": 2,
   "id": "8a851a99",
   "metadata": {},
   "outputs": [
    {
     "data": {
      "text/plain": [
       "홍길동     95\n",
       "이순신     90\n",
       "임꺽정     55\n",
       "정난정     60\n",
       "이이      76\n",
       "이황      80\n",
       "정도전     76\n",
       "김철수1    88\n",
       "김철수2    30\n",
       "김철수3    25\n",
       "Name: 국어점수, dtype: int64"
      ]
     },
     "execution_count": 2,
     "metadata": {},
     "output_type": "execute_result"
    }
   ],
   "source": [
    "sr = pd.Series([95,90,55,60,76,80,76,88,30,25],name='국어점수')\n",
    "sr.index = ['홍길동', '이순신','임꺽정','정난정','이이','이황','정도전','김철수1','김철수2','김철수3']\n",
    "sr"
   ]
  },
  {
   "cell_type": "markdown",
   "id": "945441d3",
   "metadata": {},
   "source": [
    "# 연습문제\n",
    "1. 국어점수가 가장 큰 값을 구하시오\n",
    "2. 국어점수가 가장 큰 값의 이름을 구하시오\n",
    "3. 국어점수가 80점 이상인 값을 구하시오\n",
    "4. 국어점수가 50점 이상 80점 이하인 값을 구하시오\n",
    "5. 이름이 김으로 시작하는 데이터를 구하시오\n",
    "6. 국어점수의 평균을 구하시오\n",
    "7. 국어점수의 총합을 구하시오\n",
    "8. 국어점수의 표준편차를 구하시오\n",
    "9. 국어점수가 40점 이하인 데이터를 삭제하시오\n",
    "10. 국어점수가 50점 이상인 데이터에 가산점 10%를 미만인 경우는 20%를 부여하시오\n",
    "11. 국어점수 top 5를 구하시오\n",
    "12. 국어점수가 50점 이상인 데이터의 바차트를 그리시오\n",
    "13. 국어점수의 범위(0~50, 50~70, 70~100)별 도수를 구하시오\n",
    "14. 아래처럼 출력하시오 (70점 이상 합격 미만 불합격)\n",
    "\n",
    "==========================<br>\n",
    "이름    국어    합격여부\n",
    "\n",
    "==========================<br>\n",
    "홍길동    90    합격\n",
    "이순신    90    합격\n",
    "..."
   ]
  },
  {
   "cell_type": "code",
   "execution_count": 3,
   "id": "4e0a63e1",
   "metadata": {},
   "outputs": [
    {
     "data": {
      "text/plain": [
       "95"
      ]
     },
     "execution_count": 3,
     "metadata": {},
     "output_type": "execute_result"
    }
   ],
   "source": [
    "# 1번\n",
    "sr.max()"
   ]
  },
  {
   "cell_type": "code",
   "execution_count": 5,
   "id": "c179803f",
   "metadata": {},
   "outputs": [
    {
     "data": {
      "text/plain": [
       "'홍길동'"
      ]
     },
     "execution_count": 5,
     "metadata": {},
     "output_type": "execute_result"
    }
   ],
   "source": [
    "# 2번\n",
    "sr.idxmax()"
   ]
  },
  {
   "cell_type": "code",
   "execution_count": 8,
   "id": "51f49278",
   "metadata": {},
   "outputs": [
    {
     "data": {
      "text/plain": [
       "홍길동     95\n",
       "이순신     90\n",
       "이황      80\n",
       "김철수1    88\n",
       "Name: 국어점수, dtype: int64"
      ]
     },
     "execution_count": 8,
     "metadata": {},
     "output_type": "execute_result"
    }
   ],
   "source": [
    "# 3번\n",
    "sr[sr>=80]"
   ]
  },
  {
   "cell_type": "code",
   "execution_count": 24,
   "id": "1a3c4862",
   "metadata": {},
   "outputs": [
    {
     "data": {
      "text/plain": [
       "임꺽정    55\n",
       "정난정    60\n",
       "이이     76\n",
       "이황     80\n",
       "정도전    76\n",
       "Name: 국어점수, dtype: int64"
      ]
     },
     "execution_count": 24,
     "metadata": {},
     "output_type": "execute_result"
    }
   ],
   "source": [
    "# 4번\n",
    "tmd = sr[sr<=80]\n",
    "res = tmd[tmd>=50]\n",
    "res"
   ]
  },
  {
   "cell_type": "code",
   "execution_count": 27,
   "id": "8450c8b9",
   "metadata": {},
   "outputs": [
    {
     "data": {
      "text/plain": [
       "임꺽정    55\n",
       "정난정    60\n",
       "이이     76\n",
       "이황     80\n",
       "정도전    76\n",
       "Name: 국어점수, dtype: int64"
      ]
     },
     "execution_count": 27,
     "metadata": {},
     "output_type": "execute_result"
    }
   ],
   "source": [
    "# 4번\n",
    "sr[(sr>=50) & (sr<=80)] # and 를 넣어서는 안되는데 &로 하니 됐다 이유가 뭔지는 잘 모르겠다..."
   ]
  },
  {
   "cell_type": "code",
   "execution_count": 22,
   "id": "28bb81ea",
   "metadata": {
    "scrolled": true
   },
   "outputs": [
    {
     "data": {
      "text/plain": [
       "김철수1    88\n",
       "김철수2    30\n",
       "김철수3    25\n",
       "Name: 국어점수, dtype: int64"
      ]
     },
     "execution_count": 22,
     "metadata": {},
     "output_type": "execute_result"
    }
   ],
   "source": [
    "# 5번\n",
    "sr[sr.index.str.contains('^김')]"
   ]
  },
  {
   "cell_type": "code",
   "execution_count": 28,
   "id": "9dbddfa1",
   "metadata": {},
   "outputs": [
    {
     "data": {
      "text/plain": [
       "67.5"
      ]
     },
     "execution_count": 28,
     "metadata": {},
     "output_type": "execute_result"
    }
   ],
   "source": [
    "# 6. 국어점수의 평균을 구하시오\n",
    "sr.mean()"
   ]
  },
  {
   "cell_type": "code",
   "execution_count": 29,
   "id": "5bfb7237",
   "metadata": {},
   "outputs": [
    {
     "data": {
      "text/plain": [
       "675"
      ]
     },
     "execution_count": 29,
     "metadata": {},
     "output_type": "execute_result"
    }
   ],
   "source": [
    "# 7. 국어점수의 총합을 구하시오\n",
    "sr.sum()"
   ]
  },
  {
   "cell_type": "code",
   "execution_count": 30,
   "id": "5ce9a4b2",
   "metadata": {},
   "outputs": [
    {
     "data": {
      "text/plain": [
       "24.51416823888676"
      ]
     },
     "execution_count": 30,
     "metadata": {},
     "output_type": "execute_result"
    }
   ],
   "source": [
    "# 8. 국어점수의 표준편차를 구하시오\n",
    "sr.std()"
   ]
  },
  {
   "cell_type": "code",
   "execution_count": 33,
   "id": "e2b3d351",
   "metadata": {},
   "outputs": [
    {
     "data": {
      "text/plain": [
       "홍길동     95\n",
       "이순신     90\n",
       "임꺽정     55\n",
       "정난정     60\n",
       "이이      76\n",
       "이황      80\n",
       "정도전     76\n",
       "김철수1    88\n",
       "Name: 국어점수, dtype: int64"
      ]
     },
     "execution_count": 33,
     "metadata": {},
     "output_type": "execute_result"
    }
   ],
   "source": [
    "# 9. 국어점수가 40점 이하인 데이터를 삭제하시오\n",
    "res = sr[sr>40]\n",
    "res\n",
    "\n",
    "'''\n",
    "다른 풀이\n",
    "sr.drop(sr[sr<=40].index)\n",
    "'''"
   ]
  },
  {
   "cell_type": "code",
   "execution_count": 34,
   "id": "ecfc7bb6",
   "metadata": {},
   "outputs": [
    {
     "data": {
      "text/plain": [
       "홍길동     104.5\n",
       "이순신      99.0\n",
       "임꺽정      60.5\n",
       "정난정      66.0\n",
       "이이       83.6\n",
       "이황       88.0\n",
       "정도전      83.6\n",
       "김철수1     96.8\n",
       "김철수2     36.0\n",
       "김철수3     30.0\n",
       "Name: 국어점수, dtype: float64"
      ]
     },
     "execution_count": 34,
     "metadata": {},
     "output_type": "execute_result"
    }
   ],
   "source": [
    "# 10. 국어점수가 50점 이상인 데이터에 가산점 10%를 미만인 경우는 20%를 부여하시오\n",
    "def fn(n):\n",
    "    if n >=50:\n",
    "        return n*1.1\n",
    "    else:\n",
    "        return n*1.2\n",
    "sr.apply(fn)\n",
    "# 람다 표현식\n",
    "# sr.apply(lamnda v : v*1.1 if v>=50 else v*1.2)"
   ]
  },
  {
   "cell_type": "code",
   "execution_count": 35,
   "id": "22dabc44",
   "metadata": {},
   "outputs": [
    {
     "data": {
      "text/plain": [
       "홍길동     95\n",
       "이순신     90\n",
       "김철수1    88\n",
       "이황      80\n",
       "이이      76\n",
       "Name: 국어점수, dtype: int64"
      ]
     },
     "execution_count": 35,
     "metadata": {},
     "output_type": "execute_result"
    }
   ],
   "source": [
    "# 11. 국어점수 top 5를 구하시오\n",
    "sr.nlargest(5)"
   ]
  },
  {
   "cell_type": "code",
   "execution_count": 37,
   "id": "bbccf6d3",
   "metadata": {},
   "outputs": [
    {
     "data": {
      "image/png": "[encoded data removed]",
      "text/plain": [
       "<Figure size 432x288 with 1 Axes>"
      ]
     },
     "metadata": {
      "needs_background": "light"
     },
     "output_type": "display_data"
    }
   ],
   "source": [
    "# 12. 국어점수가 50점 이상인 데이터의 바차트를 그리시오\n",
    "res = sr[sr>=50]\n",
    "res.plot(kind='bar')\n",
    "plt.show()"
   ]
  },
  {
   "cell_type": "code",
   "execution_count": 39,
   "id": "1d66b4fb",
   "metadata": {},
   "outputs": [
    {
     "data": {
      "text/plain": [
       "홍길동     (70, 100]\n",
       "이순신     (70, 100]\n",
       "임꺽정      (50, 70]\n",
       "정난정      (50, 70]\n",
       "이이      (70, 100]\n",
       "이황      (70, 100]\n",
       "정도전     (70, 100]\n",
       "김철수1    (70, 100]\n",
       "김철수2      (0, 50]\n",
       "김철수3      (0, 50]\n",
       "Name: 국어점수, dtype: category\n",
       "Categories (3, interval[int64, right]): [(0, 50] < (50, 70] < (70, 100]]"
      ]
     },
     "execution_count": 39,
     "metadata": {},
     "output_type": "execute_result"
    }
   ],
   "source": [
    "# 13. 국어점수의 범위(0~50, 50~70, 70~100)별 도수를 구하시오\n",
    "pd.cut(sr,[0,50,70,100])"
   ]
  },
  {
   "cell_type": "code",
   "execution_count": 46,
   "id": "abc998d3",
   "metadata": {},
   "outputs": [
    {
     "name": "stdout",
     "output_type": "stream",
     "text": [
      "=========================\n",
      "이름    국어    합격여부\n",
      "=========================\n",
      "홍길동\t95\t합격\n",
      "이순신\t90\t합격\n",
      "임꺽정\t55\t불합격\n",
      "정난정\t60\t불합격\n",
      "이이\t76\t합격\n",
      "이황\t80\t합격\n",
      "정도전\t76\t합격\n",
      "김철수1\t88\t합격\n",
      "김철수2\t30\t불합격\n",
      "김철수3\t25\t불합격\n"
     ]
    }
   ],
   "source": [
    "# 14. 아래처럼 출력하시오 (70점 이상 합격 미만 불합격)\n",
    "print('=========================')\n",
    "print('이름    국어    합격여부')\n",
    "print('=========================')\n",
    "for i,j in sr.items():\n",
    "    if j>=70:\n",
    "        print(i,j,'합격',sep='\\t')\n",
    "    else:\n",
    "        print(i,j,'불합격',sep='\\t')\n",
    "        \n",
    "    # 다른 풀이 print(i,j,'합격' if v>=70 else '불합격', sep='\\t')"
   ]
  },
  {
   "cell_type": "code",
   "execution_count": null,
   "id": "465b8d75",
   "metadata": {},
   "outputs": [],
   "source": []
  }
 ],
 "metadata": {
  "kernelspec": {
   "display_name": "Python 3 (ipykernel)",
   "language": "python",
   "name": "python3"
  },
  "language_info": {
   "codemirror_mode": {
    "name": "ipython",
    "version": 3
   },
   "file_extension": ".py",
   "mimetype": "text/x-python",
   "name": "python",
   "nbconvert_exporter": "python",
   "pygments_lexer": "ipython3",
   "version": "3.9.12"
  }
 },
 "nbformat": 4,
 "nbformat_minor": 5
}

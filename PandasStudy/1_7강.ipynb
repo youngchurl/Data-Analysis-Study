{
 "cells": [
  {
   "cell_type": "code",
   "execution_count": 96,
   "id": "95132236",
   "metadata": {},
   "outputs": [],
   "source": [
    "import pandas as pd\n",
    "import numpy as np\n",
    "import matplotlib.pyplot as plt\n",
    "\n",
    "# 한글 적용을 위한 정리\n",
    "import matplotlib\n",
    "matplotlib.rcParams['font.family'] = 'Malgun Gothic'\n",
    "matplotlib.rcParams['axes.unicode_minus'] = False"
   ]
  },
  {
   "cell_type": "code",
   "execution_count": 97,
   "id": "b56aa724",
   "metadata": {},
   "outputs": [],
   "source": [
    "data = [i*10 for i in range(5)]\n"
   ]
  },
  {
   "cell_type": "code",
   "execution_count": 6,
   "id": "90770dcc",
   "metadata": {},
   "outputs": [
    {
     "data": {
      "text/plain": [
       "aa    홍길동\n",
       "bb    이순신\n",
       "cc    김철수\n",
       "dd    김순이\n",
       "ee    이홍김\n",
       "dtype: object"
      ]
     },
     "execution_count": 6,
     "metadata": {},
     "output_type": "execute_result"
    }
   ],
   "source": [
    "sr = pd.Series(['홍길동', '이순신', '김철수', '김순이', '이홍김'])\n",
    "sr.index = ['aa', 'bb', 'cc', 'dd', 'ee']\n",
    "sr"
   ]
  },
  {
   "cell_type": "code",
   "execution_count": 7,
   "id": "62678195",
   "metadata": {},
   "outputs": [
    {
     "data": {
      "text/plain": [
       "bb    이순신\n",
       "dtype: object"
      ]
     },
     "execution_count": 7,
     "metadata": {},
     "output_type": "execute_result"
    }
   ],
   "source": [
    "sr[sr=='이순신']"
   ]
  },
  {
   "cell_type": "markdown",
   "id": "d34d41c0",
   "metadata": {},
   "source": [
    "# 정규식 패턴 매칭\n",
    "'''\n",
    "예를 들어 김씨만 추출 or 신으로 끝나는 사람 찾기 등\n",
    "'''"
   ]
  },
  {
   "cell_type": "code",
   "execution_count": 10,
   "id": "f010db1e",
   "metadata": {},
   "outputs": [
    {
     "data": {
      "text/plain": [
       "<pandas.core.strings.accessor.StringMethods at 0x175e4a0cdf0>"
      ]
     },
     "execution_count": 10,
     "metadata": {},
     "output_type": "execute_result"
    }
   ],
   "source": [
    "# str 속성을 통해서 문자열을 string 형식으로 변환\n",
    "sr.str "
   ]
  },
  {
   "cell_type": "code",
   "execution_count": 13,
   "id": "6c009c5d",
   "metadata": {},
   "outputs": [
    {
     "data": {
      "text/plain": [
       "aa    길동\n",
       "bb    순신\n",
       "cc    철수\n",
       "dd    순이\n",
       "ee    홍김\n",
       "dtype: object"
      ]
     },
     "execution_count": 13,
     "metadata": {},
     "output_type": "execute_result"
    }
   ],
   "source": [
    "sr.str[1:]"
   ]
  },
  {
   "cell_type": "code",
   "execution_count": 14,
   "id": "e3f38069",
   "metadata": {},
   "outputs": [
    {
     "data": {
      "text/plain": [
       "cc    김철수\n",
       "dd    김순이\n",
       "dtype: object"
      ]
     },
     "execution_count": 14,
     "metadata": {},
     "output_type": "execute_result"
    }
   ],
   "source": [
    "sr[sr.str[0]=='김']"
   ]
  },
  {
   "cell_type": "code",
   "execution_count": 15,
   "id": "e8839d74",
   "metadata": {},
   "outputs": [
    {
     "data": {
      "text/plain": [
       "<bound method StringMethods.contains of <pandas.core.strings.accessor.StringMethods object at 0x00000175E4A0CDF0>>"
      ]
     },
     "execution_count": 15,
     "metadata": {},
     "output_type": "execute_result"
    }
   ],
   "source": [
    "# contains 는 필터링에 많이 쓰임\n",
    "sr.str.contains"
   ]
  },
  {
   "cell_type": "code",
   "execution_count": 16,
   "id": "f3099d84",
   "metadata": {},
   "outputs": [
    {
     "data": {
      "text/plain": [
       "aa    False\n",
       "bb    False\n",
       "cc     True\n",
       "dd     True\n",
       "ee     True\n",
       "dtype: bool"
      ]
     },
     "execution_count": 16,
     "metadata": {},
     "output_type": "execute_result"
    }
   ],
   "source": [
    "sr.str.contains('김')"
   ]
  },
  {
   "cell_type": "code",
   "execution_count": 17,
   "id": "f397a815",
   "metadata": {},
   "outputs": [
    {
     "data": {
      "text/plain": [
       "cc    김철수\n",
       "dd    김순이\n",
       "ee    이홍김\n",
       "dtype: object"
      ]
     },
     "execution_count": 17,
     "metadata": {},
     "output_type": "execute_result"
    }
   ],
   "source": [
    "sr[sr.str.contains('김')]"
   ]
  },
  {
   "cell_type": "code",
   "execution_count": 18,
   "id": "a5da7989",
   "metadata": {},
   "outputs": [
    {
     "data": {
      "text/plain": [
       "cc    김철수\n",
       "dd    김순이\n",
       "dtype: object"
      ]
     },
     "execution_count": 18,
     "metadata": {},
     "output_type": "execute_result"
    }
   ],
   "source": [
    "sr[sr.str.contains('^김')] # ^(윗꺾세)는 시작을 의미"
   ]
  },
  {
   "cell_type": "code",
   "execution_count": 19,
   "id": "0cea56a7",
   "metadata": {},
   "outputs": [
    {
     "data": {
      "text/plain": [
       "ee    이홍김\n",
       "dtype: object"
      ]
     },
     "execution_count": 19,
     "metadata": {},
     "output_type": "execute_result"
    }
   ],
   "source": [
    "sr[sr.str.contains('김$')] # $는 끝을 의미"
   ]
  },
  {
   "cell_type": "code",
   "execution_count": 20,
   "id": "42bfa293",
   "metadata": {},
   "outputs": [
    {
     "data": {
      "text/plain": [
       "cc    김철수\n",
       "dd    김순이\n",
       "dtype: object"
      ]
     },
     "execution_count": 20,
     "metadata": {},
     "output_type": "execute_result"
    }
   ],
   "source": [
    "sr[sr.str.contains('김[철순]')] # [] 문자의 집합중 하나"
   ]
  },
  {
   "cell_type": "code",
   "execution_count": 21,
   "id": "a8857251",
   "metadata": {},
   "outputs": [
    {
     "data": {
      "text/plain": [
       "bb    이순신\n",
       "cc    김철수\n",
       "dtype: object"
      ]
     },
     "execution_count": 21,
     "metadata": {},
     "output_type": "execute_result"
    }
   ],
   "source": [
    "sr[sr.str.contains('순신|철수')] # | 는 or 을 의미"
   ]
  },
  {
   "cell_type": "code",
   "execution_count": 23,
   "id": "945a0811",
   "metadata": {},
   "outputs": [
    {
     "data": {
      "text/plain": [
       "aa    홍길동\n",
       "bb    이순신\n",
       "cc    황철수\n",
       "dd    황순이\n",
       "ee    이홍황\n",
       "dtype: object"
      ]
     },
     "execution_count": 23,
     "metadata": {},
     "output_type": "execute_result"
    }
   ],
   "source": [
    "# replace 김 -> 황 처럼 특정 글자를 변환 시킴\n",
    "sr.str.replace('김', '황')"
   ]
  },
  {
   "cell_type": "code",
   "execution_count": 25,
   "id": "346cfa55",
   "metadata": {},
   "outputs": [
    {
     "name": "stderr",
     "output_type": "stream",
     "text": [
      "C:\\Users\\user\\AppData\\Local\\Temp\\ipykernel_11468\\2245214265.py:1: FutureWarning: The default value of regex will change from True to False in a future version.\n",
      "  sr.str.replace('^김', '황')\n"
     ]
    },
    {
     "data": {
      "text/plain": [
       "aa    홍길동\n",
       "bb    이순신\n",
       "cc    황철수\n",
       "dd    황순이\n",
       "ee    이홍김\n",
       "dtype: object"
      ]
     },
     "execution_count": 25,
     "metadata": {},
     "output_type": "execute_result"
    }
   ],
   "source": [
    "sr.str.replace('^김', '황')"
   ]
  },
  {
   "cell_type": "markdown",
   "id": "6b660cc6",
   "metadata": {},
   "source": [
    "# 7강 시리즈 통계"
   ]
  },
  {
   "cell_type": "code",
   "execution_count": 26,
   "id": "9127619f",
   "metadata": {},
   "outputs": [
    {
     "data": {
      "text/plain": [
       "a    10\n",
       "b    20\n",
       "c    30\n",
       "d    40\n",
       "e    50\n",
       "Name: kor, dtype: int64"
      ]
     },
     "execution_count": 26,
     "metadata": {},
     "output_type": "execute_result"
    }
   ],
   "source": [
    "data = [10, 20, 30, 40, 50]\n",
    "sr = pd.Series(data, index = ['a','b','c','d','e'], name = 'kor')\n",
    "sr"
   ]
  },
  {
   "cell_type": "code",
   "execution_count": 27,
   "id": "98dfe6f0",
   "metadata": {},
   "outputs": [
    {
     "data": {
      "text/plain": [
       "50"
      ]
     },
     "execution_count": 27,
     "metadata": {},
     "output_type": "execute_result"
    }
   ],
   "source": [
    "sr.max()"
   ]
  },
  {
   "cell_type": "code",
   "execution_count": 28,
   "id": "23dd9622",
   "metadata": {},
   "outputs": [
    {
     "data": {
      "text/plain": [
       "10"
      ]
     },
     "execution_count": 28,
     "metadata": {},
     "output_type": "execute_result"
    }
   ],
   "source": [
    "sr.min()"
   ]
  },
  {
   "cell_type": "code",
   "execution_count": 29,
   "id": "703d097c",
   "metadata": {},
   "outputs": [
    {
     "data": {
      "text/plain": [
       "'e'"
      ]
     },
     "execution_count": 29,
     "metadata": {},
     "output_type": "execute_result"
    }
   ],
   "source": [
    "sr.idxmax() # 가장 큰값의 인덱스"
   ]
  },
  {
   "cell_type": "code",
   "execution_count": 30,
   "id": "33136cd1",
   "metadata": {},
   "outputs": [
    {
     "data": {
      "text/plain": [
       "'a'"
      ]
     },
     "execution_count": 30,
     "metadata": {},
     "output_type": "execute_result"
    }
   ],
   "source": [
    "sr.idxmin()"
   ]
  },
  {
   "cell_type": "code",
   "execution_count": 32,
   "id": "c0fec601",
   "metadata": {},
   "outputs": [
    {
     "data": {
      "text/plain": [
       "40"
      ]
     },
     "execution_count": 32,
     "metadata": {},
     "output_type": "execute_result"
    }
   ],
   "source": [
    "# 45 이하인 데이터의 가장 큰값은?\n",
    "sr[sr<=45].max()"
   ]
  },
  {
   "cell_type": "code",
   "execution_count": 33,
   "id": "ebfc794a",
   "metadata": {},
   "outputs": [
    {
     "data": {
      "text/plain": [
       "a    10\n",
       "b    20\n",
       "Name: kor, dtype: int64"
      ]
     },
     "execution_count": 33,
     "metadata": {},
     "output_type": "execute_result"
    }
   ],
   "source": [
    "sr.head(2)"
   ]
  },
  {
   "cell_type": "code",
   "execution_count": 34,
   "id": "74e297c3",
   "metadata": {},
   "outputs": [
    {
     "data": {
      "text/plain": [
       "d    40\n",
       "e    50\n",
       "Name: kor, dtype: int64"
      ]
     },
     "execution_count": 34,
     "metadata": {},
     "output_type": "execute_result"
    }
   ],
   "source": [
    "sr.tail(2)"
   ]
  },
  {
   "cell_type": "code",
   "execution_count": 41,
   "id": "a9a3079b",
   "metadata": {},
   "outputs": [
    {
     "data": {
      "text/plain": [
       "e    50\n",
       "d    40\n",
       "c    30\n",
       "Name: kor, dtype: int64"
      ]
     },
     "execution_count": 41,
     "metadata": {},
     "output_type": "execute_result"
    }
   ],
   "source": [
    "sr.nlargest(3) # n 개 큰 순으로 찾아냄\n",
    "'''\n",
    "nlargest(n,keep=)\n",
    "keep인자의 경우 default 값은 first\n",
    "last 와 all 을 적용해 사용 가능하다.\n",
    "'''"
   ]
  },
  {
   "cell_type": "code",
   "execution_count": 44,
   "id": "3915fbe5",
   "metadata": {},
   "outputs": [
    {
     "data": {
      "text/plain": [
       "a    10\n",
       "b    20\n",
       "c    30\n",
       "Name: kor, dtype: int64"
      ]
     },
     "execution_count": 44,
     "metadata": {},
     "output_type": "execute_result"
    }
   ],
   "source": [
    "sr.nsmallest(3)"
   ]
  },
  {
   "cell_type": "code",
   "execution_count": 45,
   "id": "f51213fd",
   "metadata": {},
   "outputs": [
    {
     "data": {
      "text/plain": [
       "150"
      ]
     },
     "execution_count": 45,
     "metadata": {},
     "output_type": "execute_result"
    }
   ],
   "source": [
    "sr.sum()"
   ]
  },
  {
   "cell_type": "code",
   "execution_count": 46,
   "id": "b2564f8e",
   "metadata": {},
   "outputs": [
    {
     "data": {
      "text/plain": [
       "30.0"
      ]
     },
     "execution_count": 46,
     "metadata": {},
     "output_type": "execute_result"
    }
   ],
   "source": [
    "sr.mean()"
   ]
  },
  {
   "cell_type": "code",
   "execution_count": 47,
   "id": "15e4d43c",
   "metadata": {},
   "outputs": [
    {
     "data": {
      "text/plain": [
       "30.0"
      ]
     },
     "execution_count": 47,
     "metadata": {},
     "output_type": "execute_result"
    }
   ],
   "source": [
    "sr.median()"
   ]
  },
  {
   "cell_type": "code",
   "execution_count": 50,
   "id": "2534efaf",
   "metadata": {},
   "outputs": [
    {
     "data": {
      "text/plain": [
       "0.25    20.0\n",
       "0.50    30.0\n",
       "0.75    40.0\n",
       "Name: kor, dtype: float64"
      ]
     },
     "execution_count": 50,
     "metadata": {},
     "output_type": "execute_result"
    }
   ],
   "source": [
    "sr.quantile([0.25, 0.5, 0.75])# 데이터를 정렬했을 때 25%, 50%, 75% 에 해당하는 값"
   ]
  },
  {
   "cell_type": "code",
   "execution_count": 52,
   "id": "0a168d3f",
   "metadata": {},
   "outputs": [
    {
     "data": {
      "text/plain": [
       "a    10\n",
       "b    20\n",
       "c    30\n",
       "d    40\n",
       "e    50\n",
       "Name: kor, dtype: int64"
      ]
     },
     "execution_count": 52,
     "metadata": {},
     "output_type": "execute_result"
    }
   ],
   "source": [
    "sr"
   ]
  },
  {
   "cell_type": "code",
   "execution_count": 54,
   "id": "4cab018e",
   "metadata": {},
   "outputs": [
    {
     "data": {
      "text/plain": [
       "15.811388300841896"
      ]
     },
     "execution_count": 54,
     "metadata": {},
     "output_type": "execute_result"
    }
   ],
   "source": [
    "sr.std() # 표준편차"
   ]
  },
  {
   "cell_type": "code",
   "execution_count": 55,
   "id": "15553620",
   "metadata": {},
   "outputs": [
    {
     "data": {
      "text/plain": [
       "250.0"
      ]
     },
     "execution_count": 55,
     "metadata": {},
     "output_type": "execute_result"
    }
   ],
   "source": [
    "sr.var()"
   ]
  },
  {
   "cell_type": "code",
   "execution_count": 59,
   "id": "66e36a30",
   "metadata": {},
   "outputs": [
    {
     "data": {
      "text/plain": [
       "array([10, 20, 30, 40, 50], dtype=int64)"
      ]
     },
     "execution_count": 59,
     "metadata": {},
     "output_type": "execute_result"
    }
   ],
   "source": [
    "sr.unique()"
   ]
  },
  {
   "cell_type": "code",
   "execution_count": 60,
   "id": "8bbb3c44",
   "metadata": {},
   "outputs": [],
   "source": [
    "sr['b'] = 30"
   ]
  },
  {
   "cell_type": "code",
   "execution_count": 61,
   "id": "3128e645",
   "metadata": {},
   "outputs": [
    {
     "data": {
      "text/plain": [
       "array([10, 30, 40, 50], dtype=int64)"
      ]
     },
     "execution_count": 61,
     "metadata": {},
     "output_type": "execute_result"
    }
   ],
   "source": [
    "sr.unique() # 각각의 요소를 구할 때 이용"
   ]
  },
  {
   "cell_type": "code",
   "execution_count": 62,
   "id": "209a6f92",
   "metadata": {},
   "outputs": [
    {
     "data": {
      "text/plain": [
       "30    2\n",
       "10    1\n",
       "40    1\n",
       "50    1\n",
       "Name: kor, dtype: int64"
      ]
     },
     "execution_count": 62,
     "metadata": {},
     "output_type": "execute_result"
    }
   ],
   "source": [
    "sr.value_counts() # 각 데이터가 몇개씩 있는지?"
   ]
  },
  {
   "cell_type": "code",
   "execution_count": 64,
   "id": "8203535c",
   "metadata": {},
   "outputs": [],
   "source": [
    "def fn(v):\n",
    "    print('v=' ,v)\n",
    "    return v+1"
   ]
  },
  {
   "cell_type": "code",
   "execution_count": 66,
   "id": "f1b4c5d5",
   "metadata": {},
   "outputs": [
    {
     "name": "stdout",
     "output_type": "stream",
     "text": [
      "v= 10\n",
      "v= 30\n",
      "v= 30\n",
      "v= 40\n",
      "v= 50\n"
     ]
    },
    {
     "data": {
      "text/plain": [
       "a    11\n",
       "b    31\n",
       "c    31\n",
       "d    41\n",
       "e    51\n",
       "Name: kor, dtype: int64"
      ]
     },
     "execution_count": 66,
     "metadata": {},
     "output_type": "execute_result"
    }
   ],
   "source": [
    "sr.apply(fn) # 각 요소에 함수를 대입함"
   ]
  },
  {
   "cell_type": "code",
   "execution_count": 67,
   "id": "91aae17c",
   "metadata": {},
   "outputs": [],
   "source": [
    "def fn2(v):\n",
    "    print('v=' ,v)\n",
    "    if v<30:\n",
    "        return v+1\n",
    "    else:\n",
    "        return v+2"
   ]
  },
  {
   "cell_type": "code",
   "execution_count": 68,
   "id": "41ac6c47",
   "metadata": {},
   "outputs": [
    {
     "name": "stdout",
     "output_type": "stream",
     "text": [
      "v= 10\n",
      "v= 30\n",
      "v= 30\n",
      "v= 40\n",
      "v= 50\n"
     ]
    },
    {
     "data": {
      "text/plain": [
       "a    11\n",
       "b    32\n",
       "c    32\n",
       "d    42\n",
       "e    52\n",
       "Name: kor, dtype: int64"
      ]
     },
     "execution_count": 68,
     "metadata": {},
     "output_type": "execute_result"
    }
   ],
   "source": [
    "sr.apply(fn2)"
   ]
  },
  {
   "cell_type": "code",
   "execution_count": 69,
   "id": "c2cf2e55",
   "metadata": {},
   "outputs": [
    {
     "name": "stdout",
     "output_type": "stream",
     "text": [
      "v= 10\n",
      "v= 30\n",
      "v= 30\n",
      "v= 40\n",
      "v= 50\n"
     ]
    },
    {
     "data": {
      "text/plain": [
       "a    11\n",
       "b    31\n",
       "c    31\n",
       "d    41\n",
       "e    51\n",
       "Name: kor, dtype: int64"
      ]
     },
     "execution_count": 69,
     "metadata": {},
     "output_type": "execute_result"
    }
   ],
   "source": [
    "sr.map(fn)"
   ]
  },
  {
   "cell_type": "markdown",
   "id": "f3ae183f",
   "metadata": {},
   "source": [
    "sr.apply = sr.map<br>\n",
    "이를 활용하는 이유는,<br>\n",
    "산술연산을 할 때 일괄 적용을 피하기 위해서 사용한다."
   ]
  },
  {
   "cell_type": "code",
   "execution_count": 71,
   "id": "165241d9",
   "metadata": {},
   "outputs": [
    {
     "data": {
      "text/plain": [
       "a    11\n",
       "b    32\n",
       "c    32\n",
       "d    42\n",
       "e    52\n",
       "Name: kor, dtype: int64"
      ]
     },
     "execution_count": 71,
     "metadata": {},
     "output_type": "execute_result"
    }
   ],
   "source": [
    "sr.apply(lambda v: v+1 if v<30 else v+2) # 람다식으로도 이용가능"
   ]
  },
  {
   "cell_type": "code",
   "execution_count": 74,
   "id": "fba0e957",
   "metadata": {},
   "outputs": [
    {
     "data": {
      "text/plain": [
       "a     (0, 20]\n",
       "b    (20, 40]\n",
       "c    (20, 40]\n",
       "d    (20, 40]\n",
       "e    (40, 90]\n",
       "Name: kor, dtype: category\n",
       "Categories (3, interval[int64, right]): [(0, 20] < (20, 40] < (40, 90]]"
      ]
     },
     "execution_count": 74,
     "metadata": {},
     "output_type": "execute_result"
    }
   ],
   "source": [
    "'''\n",
    "0<= sr <20\n",
    "20<= sr <40\n",
    "40<= sr <90\n",
    "'''\n",
    "pd.cut(sr,[0,20,40,90]) # 각각 항이 어떤 카테고리에 속하는지 요소별로 나눔"
   ]
  },
  {
   "cell_type": "code",
   "execution_count": 75,
   "id": "a89373f8",
   "metadata": {},
   "outputs": [
    {
     "data": {
      "text/plain": [
       "a    C\n",
       "b    B\n",
       "c    B\n",
       "d    B\n",
       "e    A\n",
       "Name: kor, dtype: category\n",
       "Categories (3, object): ['C' < 'B' < 'A']"
      ]
     },
     "execution_count": 75,
     "metadata": {},
     "output_type": "execute_result"
    }
   ],
   "source": [
    "pd.cut(sr,[0,20,40,90], labels=['C','B','A'])"
   ]
  },
  {
   "cell_type": "code",
   "execution_count": 77,
   "id": "8f30cb69",
   "metadata": {},
   "outputs": [
    {
     "data": {
      "text/plain": [
       "B    3\n",
       "C    1\n",
       "A    1\n",
       "Name: kor, dtype: int64"
      ]
     },
     "execution_count": 77,
     "metadata": {},
     "output_type": "execute_result"
    }
   ],
   "source": [
    "pd.cut(sr,[0,20,40,90], labels=['C','B','A']).value_counts() # 특정 범위에 대한 도수를 구할 수 있음"
   ]
  },
  {
   "cell_type": "markdown",
   "id": "10d4fc06",
   "metadata": {},
   "source": [
    "sr.to_csv # csv 파일로 저장 가능"
   ]
  },
  {
   "cell_type": "code",
   "execution_count": 82,
   "id": "c3427bb4",
   "metadata": {},
   "outputs": [
    {
     "data": {
      "image/png": "[encoded data removed]",
      "text/plain": [
       "<Figure size 432x288 with 1 Axes>"
      ]
     },
     "metadata": {
      "needs_background": "light"
     },
     "output_type": "display_data"
    }
   ],
   "source": [
    "sr.plot()\n",
    "plt.show() # show를 해야 비디오 메모리로 전송되서 나타낼 수 있음 (주피터에서는 없이도 나오긴 하지만 하는게 좋음)"
   ]
  },
  {
   "cell_type": "code",
   "execution_count": 89,
   "id": "c4707831",
   "metadata": {},
   "outputs": [
    {
     "data": {
      "text/plain": [
       "<AxesSubplot:title={'center':'grade'}>"
      ]
     },
     "execution_count": 89,
     "metadata": {},
     "output_type": "execute_result"
    },
    {
     "data": {
      "image/png": "[encoded data removed]",
      "text/plain": [
       "<Figure size 216x216 with 1 Axes>"
      ]
     },
     "metadata": {
      "needs_background": "light"
     },
     "output_type": "display_data"
    }
   ],
   "source": [
    "sr.plot(kind='bar', figsize=(3,3), title='grade', grid=True, legend=True, ylim=(0,100))"
   ]
  },
  {
   "cell_type": "code",
   "execution_count": 90,
   "id": "1b3f4f42",
   "metadata": {},
   "outputs": [
    {
     "name": "stdout",
     "output_type": "stream",
     "text": [
      "10\n",
      "30\n",
      "30\n",
      "40\n",
      "50\n"
     ]
    }
   ],
   "source": [
    "for n in sr:\n",
    "    print(n)"
   ]
  },
  {
   "cell_type": "code",
   "execution_count": 91,
   "id": "2673747a",
   "metadata": {},
   "outputs": [
    {
     "name": "stdout",
     "output_type": "stream",
     "text": [
      "a\n",
      "b\n",
      "c\n",
      "d\n",
      "e\n"
     ]
    }
   ],
   "source": [
    "for n in sr.index:\n",
    "    print(n)"
   ]
  },
  {
   "cell_type": "code",
   "execution_count": 93,
   "id": "c498dd2c",
   "metadata": {},
   "outputs": [
    {
     "name": "stdout",
     "output_type": "stream",
     "text": [
      "('a', 10)\n",
      "('b', 30)\n",
      "('c', 30)\n",
      "('d', 40)\n",
      "('e', 50)\n"
     ]
    }
   ],
   "source": [
    "for n in sr.items():\n",
    "    print(n)"
   ]
  },
  {
   "cell_type": "code",
   "execution_count": 94,
   "id": "97bf3db4",
   "metadata": {},
   "outputs": [
    {
     "name": "stdout",
     "output_type": "stream",
     "text": [
      "a 10\n",
      "b 30\n",
      "c 30\n",
      "d 40\n",
      "e 50\n"
     ]
    }
   ],
   "source": [
    "for i,v in sr.items():\n",
    "    print(i,v)"
   ]
  },
  {
   "cell_type": "code",
   "execution_count": null,
   "id": "d7fa64ee",
   "metadata": {},
   "outputs": [],
   "source": []
  }
 ],
 "metadata": {
  "kernelspec": {
   "display_name": "Python 3 (ipykernel)",
   "language": "python",
   "name": "python3"
  },
  "language_info": {
   "codemirror_mode": {
    "name": "ipython",
    "version": 3
   },
   "file_extension": ".py",
   "mimetype": "text/x-python",
   "name": "python",
   "nbconvert_exporter": "python",
   "pygments_lexer": "ipython3",
   "version": "3.9.12"
  }
 },
 "nbformat": 4,
 "nbformat_minor": 5
}

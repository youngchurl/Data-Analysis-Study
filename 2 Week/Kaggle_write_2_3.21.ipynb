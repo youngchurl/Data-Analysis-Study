{
  "nbformat": 4,
  "nbformat_minor": 0,
  "metadata": {
    "colab": {
      "name": "Kaggle_write_2.ipynb",
      "provenance": [],
      "collapsed_sections": [],
      "mount_file_id": "1P0I7D8njl2HuH07CEXP1KUYu3mCkVX3o",
      "authorship_tag": "ABX9TyM+vX2VXq0AcZBFR5Ab5O3U",
      "include_colab_link": true
    },
    "kernelspec": {
      "name": "python3",
      "display_name": "Python 3"
    },
    "language_info": {
      "name": "python"
    }
  },
  "cells": [
    {
      "cell_type": "markdown",
      "metadata": {
        "id": "view-in-github",
        "colab_type": "text"
      },
      "source": [
        "<a href=\"https://colab.research.google.com/github/youngchurl/Data-Analysis-Study/blob/main/Kaggle_write_2_3.21.ipynb\" target=\"_parent\"><img src=\"https://colab.research.google.com/assets/colab-badge.svg\" alt=\"Open In Colab\"/></a>"
      ]
    },
    {
      "cell_type": "code",
      "execution_count": 3,
      "metadata": {
        "colab": {
          "base_uri": "https://localhost:8080/",
          "height": 17
        },
        "id": "__t5ZaRFuA1l",
        "outputId": "faf8a251-42db-4d4b-ace5-2be73881d6ab"
      },
      "outputs": [
        {
          "output_type": "display_data",
          "data": {
            "text/html": [
              "        <script type=\"text/javascript\">\n",
              "        window.PlotlyConfig = {MathJaxConfig: 'local'};\n",
              "        if (window.MathJax) {MathJax.Hub.Config({SVG: {font: \"STIX-Web\"}});}\n",
              "        if (typeof require !== 'undefined') {\n",
              "        require.undef(\"plotly\");\n",
              "        requirejs.config({\n",
              "            paths: {\n",
              "                'plotly': ['https://cdn.plot.ly/plotly-2.8.3.min']\n",
              "            }\n",
              "        });\n",
              "        require(['plotly'], function(Plotly) {\n",
              "            window._Plotly = Plotly;\n",
              "        });\n",
              "        }\n",
              "        </script>\n",
              "        "
            ]
          },
          "metadata": {}
        }
      ],
      "source": [
        "import numpy as np\n",
        "import pandas as pd\n",
        "from pandas import Series\n",
        "import matplotlib.pyplot as plt\n",
        "import seaborn as sns\n",
        "\n",
        "plt.style.use('seaborn')\n",
        "sns.set(font_scale=2.5)\n",
        "\n",
        "import plotly.offline as py\n",
        "py.init_notebook_mode(connected=True)\n",
        "import plotly.graph_objs as go\n",
        "import plotly.tools as tls\n",
        "\n",
        "import warnings\n",
        "warnings.filterwarnings('ignore')\n",
        "\n",
        "%matplotlib inline\n",
        "\n",
        "df_train = pd.read_csv('/content/drive/MyDrive/Colab Notebooks/Kaggle/train.csv')\n",
        "df_test = pd.read_csv('/content/drive/MyDrive/Colab Notebooks/Kaggle/test.csv')\n",
        "df_train['FamilySize'] = df_train['SibSp'] + df_train['Parch'] + 1\n",
        "df_test['FamilySize'] = df_test['SibSp'] + df_test['Parch'] + 1\n",
        "\n",
        "df_test.loc[df_test.Fare.isnull(), 'Fare'] = df_test['Fare'].mean()\n",
        "\n",
        "df_train['Fare'] = df_train['Fare'].map(lambda i : np.log(i) if i > 0 else 0)\n",
        "df_test['Fare'] = df_test['Fare'].map(lambda i : np.log(i) if i > 0 else 0)\n"
      ]
    },
    {
      "cell_type": "markdown",
      "source": [
        "# 3. Feature engineering"
      ],
      "metadata": {
        "id": "GOM97kLYuy6Q"
      }
    },
    {
      "cell_type": "markdown",
      "source": [
        "## 3. 1 Fill Null\n",
        "### 3.1.1 FIll Null in Age using title"
      ],
      "metadata": {
        "id": "kILm4xZRv8wF"
      }
    },
    {
      "cell_type": "code",
      "source": [
        "df_train['Initial'] = df_train.Name.str.extract('([A-Za-z]+)\\.') # lets extract the salutations\n",
        "df_test['Initial'] = df_test.Name.str.extract('([A-Za-z]+)\\.')"
      ],
      "metadata": {
        "id": "LlGg0XYFwHWA"
      },
      "execution_count": 11,
      "outputs": []
    },
    {
      "cell_type": "code",
      "source": [
        "pd.crosstab(df_train['Initial'], df_train['Sex']).T.style.background_gradient(cmap='summer_r')"
      ],
      "metadata": {
        "colab": {
          "base_uri": "https://localhost:8080/",
          "height": 143
        },
        "id": "WJTuVV9Swwiq",
        "outputId": "71eefe5c-44ed-47a3-8670-237feb1845ab"
      },
      "execution_count": 12,
      "outputs": [
        {
          "output_type": "execute_result",
          "data": {
            "text/plain": [
              "<pandas.io.formats.style.Styler at 0x7f428efab0d0>"
            ],
            "text/html": [
              "<style type=\"text/css\">\n",
              "#T_64248_row0_col0, #T_64248_row0_col1, #T_64248_row0_col3, #T_64248_row0_col4, #T_64248_row0_col5, #T_64248_row0_col7, #T_64248_row0_col8, #T_64248_row0_col12, #T_64248_row0_col15, #T_64248_row0_col16, #T_64248_row1_col2, #T_64248_row1_col6, #T_64248_row1_col9, #T_64248_row1_col10, #T_64248_row1_col11, #T_64248_row1_col13, #T_64248_row1_col14 {\n",
              "  background-color: #ffff66;\n",
              "  color: #000000;\n",
              "}\n",
              "#T_64248_row0_col2, #T_64248_row0_col6, #T_64248_row0_col9, #T_64248_row0_col10, #T_64248_row0_col11, #T_64248_row0_col13, #T_64248_row0_col14, #T_64248_row1_col0, #T_64248_row1_col1, #T_64248_row1_col3, #T_64248_row1_col4, #T_64248_row1_col5, #T_64248_row1_col7, #T_64248_row1_col8, #T_64248_row1_col12, #T_64248_row1_col15, #T_64248_row1_col16 {\n",
              "  background-color: #008066;\n",
              "  color: #f1f1f1;\n",
              "}\n",
              "</style>\n",
              "<table id=\"T_64248_\" class=\"dataframe\">\n",
              "  <thead>\n",
              "    <tr>\n",
              "      <th class=\"index_name level0\" >Initial</th>\n",
              "      <th class=\"col_heading level0 col0\" >Capt</th>\n",
              "      <th class=\"col_heading level0 col1\" >Col</th>\n",
              "      <th class=\"col_heading level0 col2\" >Countess</th>\n",
              "      <th class=\"col_heading level0 col3\" >Don</th>\n",
              "      <th class=\"col_heading level0 col4\" >Dr</th>\n",
              "      <th class=\"col_heading level0 col5\" >Jonkheer</th>\n",
              "      <th class=\"col_heading level0 col6\" >Lady</th>\n",
              "      <th class=\"col_heading level0 col7\" >Major</th>\n",
              "      <th class=\"col_heading level0 col8\" >Master</th>\n",
              "      <th class=\"col_heading level0 col9\" >Miss</th>\n",
              "      <th class=\"col_heading level0 col10\" >Mlle</th>\n",
              "      <th class=\"col_heading level0 col11\" >Mme</th>\n",
              "      <th class=\"col_heading level0 col12\" >Mr</th>\n",
              "      <th class=\"col_heading level0 col13\" >Mrs</th>\n",
              "      <th class=\"col_heading level0 col14\" >Ms</th>\n",
              "      <th class=\"col_heading level0 col15\" >Rev</th>\n",
              "      <th class=\"col_heading level0 col16\" >Sir</th>\n",
              "    </tr>\n",
              "    <tr>\n",
              "      <th class=\"index_name level0\" >Sex</th>\n",
              "      <th class=\"blank col0\" >&nbsp;</th>\n",
              "      <th class=\"blank col1\" >&nbsp;</th>\n",
              "      <th class=\"blank col2\" >&nbsp;</th>\n",
              "      <th class=\"blank col3\" >&nbsp;</th>\n",
              "      <th class=\"blank col4\" >&nbsp;</th>\n",
              "      <th class=\"blank col5\" >&nbsp;</th>\n",
              "      <th class=\"blank col6\" >&nbsp;</th>\n",
              "      <th class=\"blank col7\" >&nbsp;</th>\n",
              "      <th class=\"blank col8\" >&nbsp;</th>\n",
              "      <th class=\"blank col9\" >&nbsp;</th>\n",
              "      <th class=\"blank col10\" >&nbsp;</th>\n",
              "      <th class=\"blank col11\" >&nbsp;</th>\n",
              "      <th class=\"blank col12\" >&nbsp;</th>\n",
              "      <th class=\"blank col13\" >&nbsp;</th>\n",
              "      <th class=\"blank col14\" >&nbsp;</th>\n",
              "      <th class=\"blank col15\" >&nbsp;</th>\n",
              "      <th class=\"blank col16\" >&nbsp;</th>\n",
              "    </tr>\n",
              "  </thead>\n",
              "  <tbody>\n",
              "    <tr>\n",
              "      <th id=\"T_64248_level0_row0\" class=\"row_heading level0 row0\" >female</th>\n",
              "      <td id=\"T_64248_row0_col0\" class=\"data row0 col0\" >0</td>\n",
              "      <td id=\"T_64248_row0_col1\" class=\"data row0 col1\" >0</td>\n",
              "      <td id=\"T_64248_row0_col2\" class=\"data row0 col2\" >1</td>\n",
              "      <td id=\"T_64248_row0_col3\" class=\"data row0 col3\" >0</td>\n",
              "      <td id=\"T_64248_row0_col4\" class=\"data row0 col4\" >1</td>\n",
              "      <td id=\"T_64248_row0_col5\" class=\"data row0 col5\" >0</td>\n",
              "      <td id=\"T_64248_row0_col6\" class=\"data row0 col6\" >1</td>\n",
              "      <td id=\"T_64248_row0_col7\" class=\"data row0 col7\" >0</td>\n",
              "      <td id=\"T_64248_row0_col8\" class=\"data row0 col8\" >0</td>\n",
              "      <td id=\"T_64248_row0_col9\" class=\"data row0 col9\" >182</td>\n",
              "      <td id=\"T_64248_row0_col10\" class=\"data row0 col10\" >2</td>\n",
              "      <td id=\"T_64248_row0_col11\" class=\"data row0 col11\" >1</td>\n",
              "      <td id=\"T_64248_row0_col12\" class=\"data row0 col12\" >0</td>\n",
              "      <td id=\"T_64248_row0_col13\" class=\"data row0 col13\" >125</td>\n",
              "      <td id=\"T_64248_row0_col14\" class=\"data row0 col14\" >1</td>\n",
              "      <td id=\"T_64248_row0_col15\" class=\"data row0 col15\" >0</td>\n",
              "      <td id=\"T_64248_row0_col16\" class=\"data row0 col16\" >0</td>\n",
              "    </tr>\n",
              "    <tr>\n",
              "      <th id=\"T_64248_level0_row1\" class=\"row_heading level0 row1\" >male</th>\n",
              "      <td id=\"T_64248_row1_col0\" class=\"data row1 col0\" >1</td>\n",
              "      <td id=\"T_64248_row1_col1\" class=\"data row1 col1\" >2</td>\n",
              "      <td id=\"T_64248_row1_col2\" class=\"data row1 col2\" >0</td>\n",
              "      <td id=\"T_64248_row1_col3\" class=\"data row1 col3\" >1</td>\n",
              "      <td id=\"T_64248_row1_col4\" class=\"data row1 col4\" >6</td>\n",
              "      <td id=\"T_64248_row1_col5\" class=\"data row1 col5\" >1</td>\n",
              "      <td id=\"T_64248_row1_col6\" class=\"data row1 col6\" >0</td>\n",
              "      <td id=\"T_64248_row1_col7\" class=\"data row1 col7\" >2</td>\n",
              "      <td id=\"T_64248_row1_col8\" class=\"data row1 col8\" >40</td>\n",
              "      <td id=\"T_64248_row1_col9\" class=\"data row1 col9\" >0</td>\n",
              "      <td id=\"T_64248_row1_col10\" class=\"data row1 col10\" >0</td>\n",
              "      <td id=\"T_64248_row1_col11\" class=\"data row1 col11\" >0</td>\n",
              "      <td id=\"T_64248_row1_col12\" class=\"data row1 col12\" >517</td>\n",
              "      <td id=\"T_64248_row1_col13\" class=\"data row1 col13\" >0</td>\n",
              "      <td id=\"T_64248_row1_col14\" class=\"data row1 col14\" >0</td>\n",
              "      <td id=\"T_64248_row1_col15\" class=\"data row1 col15\" >6</td>\n",
              "      <td id=\"T_64248_row1_col16\" class=\"data row1 col16\" >1</td>\n",
              "    </tr>\n",
              "  </tbody>\n",
              "</table>\n"
            ]
          },
          "metadata": {},
          "execution_count": 12
        }
      ]
    },
    {
      "cell_type": "code",
      "source": [
        "df_train['Initial'].replace(['Mlle','Mme','Ms','Dr','Major','Lady','Countess','Jonkheer','Col','Rev','Capt','Sir','Don', 'Dona'],\n",
        "                        ['Miss','Miss','Miss','Mr','Mr','Mrs','Mrs','Other','Other','Other','Mr','Mr','Mr', 'Mr'],inplace=True)\n",
        "\n",
        "df_test['Initial'].replace(['Mlle','Mme','Ms','Dr','Major','Lady','Countess','Jonkheer','Col','Rev','Capt','Sir','Don', 'Dona'],\n",
        "                        ['Miss','Miss','Miss','Mr','Mr','Mrs','Mrs','Other','Other','Other','Mr','Mr','Mr', 'Mr'],inplace=True)"
      ],
      "metadata": {
        "id": "HpkabA5kxAZK"
      },
      "execution_count": 13,
      "outputs": []
    },
    {
      "cell_type": "code",
      "source": [
        "df_train.groupby('Initial').mean()"
      ],
      "metadata": {
        "colab": {
          "base_uri": "https://localhost:8080/",
          "height": 237
        },
        "id": "q8b-8keayKkQ",
        "outputId": "a238bc3b-f9ef-45b3-b563-7b0f7622e3ca"
      },
      "execution_count": 14,
      "outputs": [
        {
          "output_type": "execute_result",
          "data": {
            "text/plain": [
              "         PassengerId  Survived    Pclass        Age     SibSp     Parch  \\\n",
              "Initial                                                                   \n",
              "Master    414.975000  0.575000  2.625000   4.574167  2.300000  1.375000   \n",
              "Miss      411.741935  0.704301  2.284946  21.860000  0.698925  0.537634   \n",
              "Mr        455.880907  0.162571  2.381853  32.739609  0.293006  0.151229   \n",
              "Mrs       456.393701  0.795276  1.984252  35.981818  0.692913  0.818898   \n",
              "Other     564.444444  0.111111  1.666667  45.888889  0.111111  0.111111   \n",
              "\n",
              "             Fare  FamilySize  \n",
              "Initial                        \n",
              "Master   3.340710    4.675000  \n",
              "Miss     3.123713    2.236559  \n",
              "Mr       2.651507    1.444234  \n",
              "Mrs      3.443751    2.511811  \n",
              "Other    2.641605    1.222222  "
            ],
            "text/html": [
              "\n",
              "  <div id=\"df-4b5744db-f085-45de-9698-9f50e8c60321\">\n",
              "    <div class=\"colab-df-container\">\n",
              "      <div>\n",
              "<style scoped>\n",
              "    .dataframe tbody tr th:only-of-type {\n",
              "        vertical-align: middle;\n",
              "    }\n",
              "\n",
              "    .dataframe tbody tr th {\n",
              "        vertical-align: top;\n",
              "    }\n",
              "\n",
              "    .dataframe thead th {\n",
              "        text-align: right;\n",
              "    }\n",
              "</style>\n",
              "<table border=\"1\" class=\"dataframe\">\n",
              "  <thead>\n",
              "    <tr style=\"text-align: right;\">\n",
              "      <th></th>\n",
              "      <th>PassengerId</th>\n",
              "      <th>Survived</th>\n",
              "      <th>Pclass</th>\n",
              "      <th>Age</th>\n",
              "      <th>SibSp</th>\n",
              "      <th>Parch</th>\n",
              "      <th>Fare</th>\n",
              "      <th>FamilySize</th>\n",
              "    </tr>\n",
              "    <tr>\n",
              "      <th>Initial</th>\n",
              "      <th></th>\n",
              "      <th></th>\n",
              "      <th></th>\n",
              "      <th></th>\n",
              "      <th></th>\n",
              "      <th></th>\n",
              "      <th></th>\n",
              "      <th></th>\n",
              "    </tr>\n",
              "  </thead>\n",
              "  <tbody>\n",
              "    <tr>\n",
              "      <th>Master</th>\n",
              "      <td>414.975000</td>\n",
              "      <td>0.575000</td>\n",
              "      <td>2.625000</td>\n",
              "      <td>4.574167</td>\n",
              "      <td>2.300000</td>\n",
              "      <td>1.375000</td>\n",
              "      <td>3.340710</td>\n",
              "      <td>4.675000</td>\n",
              "    </tr>\n",
              "    <tr>\n",
              "      <th>Miss</th>\n",
              "      <td>411.741935</td>\n",
              "      <td>0.704301</td>\n",
              "      <td>2.284946</td>\n",
              "      <td>21.860000</td>\n",
              "      <td>0.698925</td>\n",
              "      <td>0.537634</td>\n",
              "      <td>3.123713</td>\n",
              "      <td>2.236559</td>\n",
              "    </tr>\n",
              "    <tr>\n",
              "      <th>Mr</th>\n",
              "      <td>455.880907</td>\n",
              "      <td>0.162571</td>\n",
              "      <td>2.381853</td>\n",
              "      <td>32.739609</td>\n",
              "      <td>0.293006</td>\n",
              "      <td>0.151229</td>\n",
              "      <td>2.651507</td>\n",
              "      <td>1.444234</td>\n",
              "    </tr>\n",
              "    <tr>\n",
              "      <th>Mrs</th>\n",
              "      <td>456.393701</td>\n",
              "      <td>0.795276</td>\n",
              "      <td>1.984252</td>\n",
              "      <td>35.981818</td>\n",
              "      <td>0.692913</td>\n",
              "      <td>0.818898</td>\n",
              "      <td>3.443751</td>\n",
              "      <td>2.511811</td>\n",
              "    </tr>\n",
              "    <tr>\n",
              "      <th>Other</th>\n",
              "      <td>564.444444</td>\n",
              "      <td>0.111111</td>\n",
              "      <td>1.666667</td>\n",
              "      <td>45.888889</td>\n",
              "      <td>0.111111</td>\n",
              "      <td>0.111111</td>\n",
              "      <td>2.641605</td>\n",
              "      <td>1.222222</td>\n",
              "    </tr>\n",
              "  </tbody>\n",
              "</table>\n",
              "</div>\n",
              "      <button class=\"colab-df-convert\" onclick=\"convertToInteractive('df-4b5744db-f085-45de-9698-9f50e8c60321')\"\n",
              "              title=\"Convert this dataframe to an interactive table.\"\n",
              "              style=\"display:none;\">\n",
              "        \n",
              "  <svg xmlns=\"http://www.w3.org/2000/svg\" height=\"24px\"viewBox=\"0 0 24 24\"\n",
              "       width=\"24px\">\n",
              "    <path d=\"M0 0h24v24H0V0z\" fill=\"none\"/>\n",
              "    <path d=\"M18.56 5.44l.94 2.06.94-2.06 2.06-.94-2.06-.94-.94-2.06-.94 2.06-2.06.94zm-11 1L8.5 8.5l.94-2.06 2.06-.94-2.06-.94L8.5 2.5l-.94 2.06-2.06.94zm10 10l.94 2.06.94-2.06 2.06-.94-2.06-.94-.94-2.06-.94 2.06-2.06.94z\"/><path d=\"M17.41 7.96l-1.37-1.37c-.4-.4-.92-.59-1.43-.59-.52 0-1.04.2-1.43.59L10.3 9.45l-7.72 7.72c-.78.78-.78 2.05 0 2.83L4 21.41c.39.39.9.59 1.41.59.51 0 1.02-.2 1.41-.59l7.78-7.78 2.81-2.81c.8-.78.8-2.07 0-2.86zM5.41 20L4 18.59l7.72-7.72 1.47 1.35L5.41 20z\"/>\n",
              "  </svg>\n",
              "      </button>\n",
              "      \n",
              "  <style>\n",
              "    .colab-df-container {\n",
              "      display:flex;\n",
              "      flex-wrap:wrap;\n",
              "      gap: 12px;\n",
              "    }\n",
              "\n",
              "    .colab-df-convert {\n",
              "      background-color: #E8F0FE;\n",
              "      border: none;\n",
              "      border-radius: 50%;\n",
              "      cursor: pointer;\n",
              "      display: none;\n",
              "      fill: #1967D2;\n",
              "      height: 32px;\n",
              "      padding: 0 0 0 0;\n",
              "      width: 32px;\n",
              "    }\n",
              "\n",
              "    .colab-df-convert:hover {\n",
              "      background-color: #E2EBFA;\n",
              "      box-shadow: 0px 1px 2px rgba(60, 64, 67, 0.3), 0px 1px 3px 1px rgba(60, 64, 67, 0.15);\n",
              "      fill: #174EA6;\n",
              "    }\n",
              "\n",
              "    [theme=dark] .colab-df-convert {\n",
              "      background-color: #3B4455;\n",
              "      fill: #D2E3FC;\n",
              "    }\n",
              "\n",
              "    [theme=dark] .colab-df-convert:hover {\n",
              "      background-color: #434B5C;\n",
              "      box-shadow: 0px 1px 3px 1px rgba(0, 0, 0, 0.15);\n",
              "      filter: drop-shadow(0px 1px 2px rgba(0, 0, 0, 0.3));\n",
              "      fill: #FFFFFF;\n",
              "    }\n",
              "  </style>\n",
              "\n",
              "      <script>\n",
              "        const buttonEl =\n",
              "          document.querySelector('#df-4b5744db-f085-45de-9698-9f50e8c60321 button.colab-df-convert');\n",
              "        buttonEl.style.display =\n",
              "          google.colab.kernel.accessAllowed ? 'block' : 'none';\n",
              "\n",
              "        async function convertToInteractive(key) {\n",
              "          const element = document.querySelector('#df-4b5744db-f085-45de-9698-9f50e8c60321');\n",
              "          const dataTable =\n",
              "            await google.colab.kernel.invokeFunction('convertToInteractive',\n",
              "                                                     [key], {});\n",
              "          if (!dataTable) return;\n",
              "\n",
              "          const docLinkHtml = 'Like what you see? Visit the ' +\n",
              "            '<a target=\"_blank\" href=https://colab.research.google.com/notebooks/data_table.ipynb>data table notebook</a>'\n",
              "            + ' to learn more about interactive tables.';\n",
              "          element.innerHTML = '';\n",
              "          dataTable['output_type'] = 'display_data';\n",
              "          await google.colab.output.renderOutput(dataTable, element);\n",
              "          const docLink = document.createElement('div');\n",
              "          docLink.innerHTML = docLinkHtml;\n",
              "          element.appendChild(docLink);\n",
              "        }\n",
              "      </script>\n",
              "    </div>\n",
              "  </div>\n",
              "  "
            ]
          },
          "metadata": {},
          "execution_count": 14
        }
      ]
    },
    {
      "cell_type": "code",
      "source": [
        "df_train.groupby('Initial')['Survived'].mean().plot.bar()"
      ],
      "metadata": {
        "colab": {
          "base_uri": "https://localhost:8080/",
          "height": 406
        },
        "id": "yJkHczfLy5NA",
        "outputId": "7635bfdc-9e93-40f7-ac2d-5f46bc5d174b"
      },
      "execution_count": 15,
      "outputs": [
        {
          "output_type": "execute_result",
          "data": {
            "text/plain": [
              "<matplotlib.axes._subplots.AxesSubplot at 0x7f428e6aacd0>"
            ]
          },
          "metadata": {},
          "execution_count": 15
        },
        {
          "output_type": "display_data",
          "data": {
            "text/plain": [
              "<Figure size 432x288 with 1 Axes>"
            ],
            "image/png": "[encoded data removed]"
          },
          "metadata": {
            "needs_background": "light"
          }
        }
      ]
    },
    {
      "cell_type": "code",
      "source": [
        "df_train.groupby('Initial').mean()"
      ],
      "metadata": {
        "colab": {
          "base_uri": "https://localhost:8080/",
          "height": 237
        },
        "id": "AJ5cLKafzC8p",
        "outputId": "5002aeb8-92cf-4ce3-dfdc-7087c9ba2d97"
      },
      "execution_count": 16,
      "outputs": [
        {
          "output_type": "execute_result",
          "data": {
            "text/plain": [
              "         PassengerId  Survived    Pclass        Age     SibSp     Parch  \\\n",
              "Initial                                                                   \n",
              "Master    414.975000  0.575000  2.625000   4.574167  2.300000  1.375000   \n",
              "Miss      411.741935  0.704301  2.284946  21.860000  0.698925  0.537634   \n",
              "Mr        455.880907  0.162571  2.381853  32.739609  0.293006  0.151229   \n",
              "Mrs       456.393701  0.795276  1.984252  35.981818  0.692913  0.818898   \n",
              "Other     564.444444  0.111111  1.666667  45.888889  0.111111  0.111111   \n",
              "\n",
              "             Fare  FamilySize  \n",
              "Initial                        \n",
              "Master   3.340710    4.675000  \n",
              "Miss     3.123713    2.236559  \n",
              "Mr       2.651507    1.444234  \n",
              "Mrs      3.443751    2.511811  \n",
              "Other    2.641605    1.222222  "
            ],
            "text/html": [
              "\n",
              "  <div id=\"df-e7923926-47b3-4b69-872b-a5c0fa471001\">\n",
              "    <div class=\"colab-df-container\">\n",
              "      <div>\n",
              "<style scoped>\n",
              "    .dataframe tbody tr th:only-of-type {\n",
              "        vertical-align: middle;\n",
              "    }\n",
              "\n",
              "    .dataframe tbody tr th {\n",
              "        vertical-align: top;\n",
              "    }\n",
              "\n",
              "    .dataframe thead th {\n",
              "        text-align: right;\n",
              "    }\n",
              "</style>\n",
              "<table border=\"1\" class=\"dataframe\">\n",
              "  <thead>\n",
              "    <tr style=\"text-align: right;\">\n",
              "      <th></th>\n",
              "      <th>PassengerId</th>\n",
              "      <th>Survived</th>\n",
              "      <th>Pclass</th>\n",
              "      <th>Age</th>\n",
              "      <th>SibSp</th>\n",
              "      <th>Parch</th>\n",
              "      <th>Fare</th>\n",
              "      <th>FamilySize</th>\n",
              "    </tr>\n",
              "    <tr>\n",
              "      <th>Initial</th>\n",
              "      <th></th>\n",
              "      <th></th>\n",
              "      <th></th>\n",
              "      <th></th>\n",
              "      <th></th>\n",
              "      <th></th>\n",
              "      <th></th>\n",
              "      <th></th>\n",
              "    </tr>\n",
              "  </thead>\n",
              "  <tbody>\n",
              "    <tr>\n",
              "      <th>Master</th>\n",
              "      <td>414.975000</td>\n",
              "      <td>0.575000</td>\n",
              "      <td>2.625000</td>\n",
              "      <td>4.574167</td>\n",
              "      <td>2.300000</td>\n",
              "      <td>1.375000</td>\n",
              "      <td>3.340710</td>\n",
              "      <td>4.675000</td>\n",
              "    </tr>\n",
              "    <tr>\n",
              "      <th>Miss</th>\n",
              "      <td>411.741935</td>\n",
              "      <td>0.704301</td>\n",
              "      <td>2.284946</td>\n",
              "      <td>21.860000</td>\n",
              "      <td>0.698925</td>\n",
              "      <td>0.537634</td>\n",
              "      <td>3.123713</td>\n",
              "      <td>2.236559</td>\n",
              "    </tr>\n",
              "    <tr>\n",
              "      <th>Mr</th>\n",
              "      <td>455.880907</td>\n",
              "      <td>0.162571</td>\n",
              "      <td>2.381853</td>\n",
              "      <td>32.739609</td>\n",
              "      <td>0.293006</td>\n",
              "      <td>0.151229</td>\n",
              "      <td>2.651507</td>\n",
              "      <td>1.444234</td>\n",
              "    </tr>\n",
              "    <tr>\n",
              "      <th>Mrs</th>\n",
              "      <td>456.393701</td>\n",
              "      <td>0.795276</td>\n",
              "      <td>1.984252</td>\n",
              "      <td>35.981818</td>\n",
              "      <td>0.692913</td>\n",
              "      <td>0.818898</td>\n",
              "      <td>3.443751</td>\n",
              "      <td>2.511811</td>\n",
              "    </tr>\n",
              "    <tr>\n",
              "      <th>Other</th>\n",
              "      <td>564.444444</td>\n",
              "      <td>0.111111</td>\n",
              "      <td>1.666667</td>\n",
              "      <td>45.888889</td>\n",
              "      <td>0.111111</td>\n",
              "      <td>0.111111</td>\n",
              "      <td>2.641605</td>\n",
              "      <td>1.222222</td>\n",
              "    </tr>\n",
              "  </tbody>\n",
              "</table>\n",
              "</div>\n",
              "      <button class=\"colab-df-convert\" onclick=\"convertToInteractive('df-e7923926-47b3-4b69-872b-a5c0fa471001')\"\n",
              "              title=\"Convert this dataframe to an interactive table.\"\n",
              "              style=\"display:none;\">\n",
              "        \n",
              "  <svg xmlns=\"http://www.w3.org/2000/svg\" height=\"24px\"viewBox=\"0 0 24 24\"\n",
              "       width=\"24px\">\n",
              "    <path d=\"M0 0h24v24H0V0z\" fill=\"none\"/>\n",
              "    <path d=\"M18.56 5.44l.94 2.06.94-2.06 2.06-.94-2.06-.94-.94-2.06-.94 2.06-2.06.94zm-11 1L8.5 8.5l.94-2.06 2.06-.94-2.06-.94L8.5 2.5l-.94 2.06-2.06.94zm10 10l.94 2.06.94-2.06 2.06-.94-2.06-.94-.94-2.06-.94 2.06-2.06.94z\"/><path d=\"M17.41 7.96l-1.37-1.37c-.4-.4-.92-.59-1.43-.59-.52 0-1.04.2-1.43.59L10.3 9.45l-7.72 7.72c-.78.78-.78 2.05 0 2.83L4 21.41c.39.39.9.59 1.41.59.51 0 1.02-.2 1.41-.59l7.78-7.78 2.81-2.81c.8-.78.8-2.07 0-2.86zM5.41 20L4 18.59l7.72-7.72 1.47 1.35L5.41 20z\"/>\n",
              "  </svg>\n",
              "      </button>\n",
              "      \n",
              "  <style>\n",
              "    .colab-df-container {\n",
              "      display:flex;\n",
              "      flex-wrap:wrap;\n",
              "      gap: 12px;\n",
              "    }\n",
              "\n",
              "    .colab-df-convert {\n",
              "      background-color: #E8F0FE;\n",
              "      border: none;\n",
              "      border-radius: 50%;\n",
              "      cursor: pointer;\n",
              "      display: none;\n",
              "      fill: #1967D2;\n",
              "      height: 32px;\n",
              "      padding: 0 0 0 0;\n",
              "      width: 32px;\n",
              "    }\n",
              "\n",
              "    .colab-df-convert:hover {\n",
              "      background-color: #E2EBFA;\n",
              "      box-shadow: 0px 1px 2px rgba(60, 64, 67, 0.3), 0px 1px 3px 1px rgba(60, 64, 67, 0.15);\n",
              "      fill: #174EA6;\n",
              "    }\n",
              "\n",
              "    [theme=dark] .colab-df-convert {\n",
              "      background-color: #3B4455;\n",
              "      fill: #D2E3FC;\n",
              "    }\n",
              "\n",
              "    [theme=dark] .colab-df-convert:hover {\n",
              "      background-color: #434B5C;\n",
              "      box-shadow: 0px 1px 3px 1px rgba(0, 0, 0, 0.15);\n",
              "      filter: drop-shadow(0px 1px 2px rgba(0, 0, 0, 0.3));\n",
              "      fill: #FFFFFF;\n",
              "    }\n",
              "  </style>\n",
              "\n",
              "      <script>\n",
              "        const buttonEl =\n",
              "          document.querySelector('#df-e7923926-47b3-4b69-872b-a5c0fa471001 button.colab-df-convert');\n",
              "        buttonEl.style.display =\n",
              "          google.colab.kernel.accessAllowed ? 'block' : 'none';\n",
              "\n",
              "        async function convertToInteractive(key) {\n",
              "          const element = document.querySelector('#df-e7923926-47b3-4b69-872b-a5c0fa471001');\n",
              "          const dataTable =\n",
              "            await google.colab.kernel.invokeFunction('convertToInteractive',\n",
              "                                                     [key], {});\n",
              "          if (!dataTable) return;\n",
              "\n",
              "          const docLinkHtml = 'Like what you see? Visit the ' +\n",
              "            '<a target=\"_blank\" href=https://colab.research.google.com/notebooks/data_table.ipynb>data table notebook</a>'\n",
              "            + ' to learn more about interactive tables.';\n",
              "          element.innerHTML = '';\n",
              "          dataTable['output_type'] = 'display_data';\n",
              "          await google.colab.output.renderOutput(dataTable, element);\n",
              "          const docLink = document.createElement('div');\n",
              "          docLink.innerHTML = docLinkHtml;\n",
              "          element.appendChild(docLink);\n",
              "        }\n",
              "      </script>\n",
              "    </div>\n",
              "  </div>\n",
              "  "
            ]
          },
          "metadata": {},
          "execution_count": 16
        }
      ]
    },
    {
      "cell_type": "code",
      "source": [
        "df_train.loc[(df_train.Age.isnull())&(df_train.Initial=='Mr'), 'Age'] = 33\n",
        "df_train.loc[(df_train.Age.isnull()) & (df_train.Initial=='Mrs'), 'Age'] = 36\n",
        "df_train.loc[(df_train.Age.isnull()) & (df_train.Initial == 'Master'), 'Age']=5\n",
        "df_train.loc[(df_train.Age.isnull()) & (df_train.Initial=='Miss'), 'Age'] = 22\n",
        "df_train.loc[(df_train.Age.isnull()) & (df_train.Initial=='Other'), 'Age'] = 46\n",
        "\n",
        "df_test.loc[(df_test.Age.isnull()) & (df_test.Initial=='Mr'), 'Age'] = 33\n",
        "df_test.loc[(df_test.Age.isnull()) & (df_test.Initial=='Mrs'), 'Age'] = 36\n",
        "df_test.loc[(df_test.Age.isnull()) & (df_test.Initial == 'Master'), 'Age']=5\n",
        "df_test.loc[(df_test.Age.isnull()) & (df_test.Initial=='Miss'), 'Age'] = 22\n",
        "df_test.loc[(df_test.Age.isnull()) & (df_test.Initial=='Other'), 'Age'] = 46"
      ],
      "metadata": {
        "id": "QA8N4DIKzajX"
      },
      "execution_count": 17,
      "outputs": []
    },
    {
      "cell_type": "markdown",
      "source": [
        "### 3. 1.2 Fill Null in Embarked "
      ],
      "metadata": {
        "id": "PZ1BBs8o0vb_"
      }
    },
    {
      "cell_type": "code",
      "source": [
        "print('Embarked has', sum(df_train['Embarked'].isnull()), 'Null values')"
      ],
      "metadata": {
        "colab": {
          "base_uri": "https://localhost:8080/"
        },
        "id": "ilRcO25w03qW",
        "outputId": "308c0dca-338c-49e9-e63c-c357ebb221de"
      },
      "execution_count": 18,
      "outputs": [
        {
          "output_type": "stream",
          "name": "stdout",
          "text": [
            "Embarked has 2 Null values\n"
          ]
        }
      ]
    },
    {
      "cell_type": "code",
      "source": [
        "df_train['Embarked'].fillna('S', inplace=True)"
      ],
      "metadata": {
        "id": "cr5t-FhK1BnF"
      },
      "execution_count": 19,
      "outputs": []
    },
    {
      "cell_type": "markdown",
      "source": [
        "## 3.2 Change Age(continuous to categorical)"
      ],
      "metadata": {
        "id": "Mh4SjPr71KHZ"
      }
    },
    {
      "cell_type": "code",
      "source": [
        "df_train['Age_cat'] = 0\n",
        "df_train.loc[df_train['Age'] < 10, 'Age_cat']=0\n",
        "df_train.loc[(10<=df_train['Age']) & (df_train['Age'] < 20), 'Age_cat'] = 1\n",
        "df_train.loc[(20<=df_train['Age']) & (df_train['Age'] < 30), 'Age_cat'] = 2\n",
        "df_train.loc[(30<=df_train['Age']) & (df_train['Age'] < 40), 'Age_cat'] = 3\n",
        "df_train.loc[(40<=df_train['Age']) & (df_train['Age'] < 50), 'Age_cat'] = 4\n",
        "df_train.loc[(50<=df_train['Age']) & (df_train['Age'] < 60), 'Age_cat'] = 5\n",
        "df_train.loc[(60<=df_train['Age']) & (df_train['Age'] < 70), 'Age_cat'] = 6\n",
        "df_train.loc[(70<=df_train['Age']), 'Age_cat'] = 7\n",
        "\n",
        "df_test['Age_cat'] = 0\n",
        "df_test.loc[df_test['Age'] < 10, 'Age_cat']=0\n",
        "df_test.loc[(10<=df_test['Age']) & (df_test['Age'] < 20), 'Age_cat'] = 1\n",
        "df_test.loc[(20<=df_test['Age']) & (df_test['Age'] < 30), 'Age_cat'] = 2\n",
        "df_test.loc[(30<=df_test['Age']) & (df_test['Age'] < 40), 'Age_cat'] = 3\n",
        "df_test.loc[(40<=df_test['Age']) & (df_test['Age'] < 50), 'Age_cat'] = 4\n",
        "df_test.loc[(50<=df_test['Age']) & (df_test['Age'] < 60), 'Age_cat'] = 5\n",
        "df_test.loc[(60<=df_test['Age']) & (df_test['Age'] < 70), 'Age_cat'] = 6\n",
        "df_test.loc[(70<=df_test['Age']), 'Age_cat'] = 7"
      ],
      "metadata": {
        "id": "HROAObgM1Qyi"
      },
      "execution_count": 21,
      "outputs": []
    },
    {
      "cell_type": "code",
      "source": [
        ""
      ],
      "metadata": {
        "id": "3z4W1dlI3LRt"
      },
      "execution_count": null,
      "outputs": []
    }
  ]
}

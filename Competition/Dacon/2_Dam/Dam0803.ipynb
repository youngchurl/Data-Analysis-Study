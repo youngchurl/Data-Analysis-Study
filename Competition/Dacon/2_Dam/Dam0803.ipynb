{
  "cells": [
    {
      "cell_type": "markdown",
      "metadata": {
        "id": "veP2RL1_0ZXh"
      },
      "source": [
        "### 필요한 라이브러리 불러오기"
      ],
      "id": "veP2RL1_0ZXh"
    },
    {
      "cell_type": "code",
      "source": [
        "from google.colab import drive\n",
        "drive.mount('/content/drive')"
      ],
      "metadata": {
        "colab": {
          "base_uri": "https://localhost:8080/"
        },
        "id": "ulfmhpST0cbs",
        "outputId": "27de41a1-afec-4b6b-e621-be90c56b8f9e"
      },
      "id": "ulfmhpST0cbs",
      "execution_count": 1,
      "outputs": [
        {
          "output_type": "stream",
          "name": "stdout",
          "text": [
            "Drive already mounted at /content/drive; to attempt to forcibly remount, call drive.mount(\"/content/drive\", force_remount=True).\n"
          ]
        }
      ]
    },
    {
      "cell_type": "code",
      "execution_count": 2,
      "metadata": {
        "id": "ryq6zlZk0ZXp"
      },
      "outputs": [],
      "source": [
        "import pandas as pd\n",
        "import numpy as np\n",
        "\n",
        "from glob import glob\n",
        "from tqdm import tqdm\n",
        "from scipy import interpolate\n",
        "\n",
        "import tensorflow as tf\n",
        "from keras.models import Sequential\n",
        "from keras.layers import Dense, LSTM, GRU, AveragePooling1D, GlobalAveragePooling1D\n",
        "from sklearn.preprocessing import StandardScaler\n",
        "from sklearn.preprocessing import MinMaxScaler\n",
        "import seaborn as sns\n",
        "import matplotlib.pylab as plt\n",
        "\n",
        "\n",
        "# from tensorflow.compat.v1 import ConfigProto\n",
        "# from tensorflow.compat.v1 import InteractiveSession\n",
        "\n",
        "# config = ConfigProto()\n",
        "# config.gpu_options.allow_growth = True\n",
        "# session = InteractiveSession(config=config)"
      ],
      "id": "ryq6zlZk0ZXp"
    },
    {
      "cell_type": "markdown",
      "metadata": {
        "id": "db4DUlhq0ZXt"
      },
      "source": [
        "### 데이터 전처리"
      ],
      "id": "db4DUlhq0ZXt"
    },
    {
      "cell_type": "code",
      "execution_count": 3,
      "metadata": {
        "colab": {
          "base_uri": "https://localhost:8080/"
        },
        "id": "yEAXbeXv0ZXu",
        "outputId": "0f2265c3-c6ed-4cdc-b278-f4430e246600"
      },
      "outputs": [
        {
          "output_type": "execute_result",
          "data": {
            "text/plain": [
              "['/content/drive/MyDrive/Study/Dacon/dam/water_data/data_2012.csv',\n",
              " '/content/drive/MyDrive/Study/Dacon/dam/water_data/data_2013.csv',\n",
              " '/content/drive/MyDrive/Study/Dacon/dam/water_data/data_2014.csv',\n",
              " '/content/drive/MyDrive/Study/Dacon/dam/water_data/data_2015.csv',\n",
              " '/content/drive/MyDrive/Study/Dacon/dam/water_data/data_2016.csv',\n",
              " '/content/drive/MyDrive/Study/Dacon/dam/water_data/data_2017.csv',\n",
              " '/content/drive/MyDrive/Study/Dacon/dam/water_data/data_2018.csv',\n",
              " '/content/drive/MyDrive/Study/Dacon/dam/water_data/data_2019.csv',\n",
              " '/content/drive/MyDrive/Study/Dacon/dam/water_data/data_2020.csv',\n",
              " '/content/drive/MyDrive/Study/Dacon/dam/water_data/data_2021.csv',\n",
              " '/content/drive/MyDrive/Study/Dacon/dam/water_data/data_2022.csv']"
            ]
          },
          "metadata": {},
          "execution_count": 3
        }
      ],
      "source": [
        "w_list = sorted(glob(\"/content/drive/MyDrive/Study/Dacon/dam/water_data/*.csv\"))\n",
        "r_list = sorted(glob(\"/content/drive/MyDrive/Study/Dacon/dam/rf_data/*.csv\"))\n",
        "w_list"
      ],
      "id": "yEAXbeXv0ZXu"
    },
    {
      "cell_type": "code",
      "execution_count": 4,
      "metadata": {
        "colab": {
          "base_uri": "https://localhost:8080/"
        },
        "id": "EFqsjSIG0ZXv",
        "outputId": "226a33d1-758a-4253-9d49-48f898b14686"
      },
      "outputs": [
        {
          "output_type": "execute_result",
          "data": {
            "text/plain": [
              "(26496, 15)"
            ]
          },
          "metadata": {},
          "execution_count": 4
        }
      ],
      "source": [
        "pd.read_csv(w_list[0]).shape"
      ],
      "id": "EFqsjSIG0ZXv"
    },
    {
      "cell_type": "code",
      "source": [
        "pd.read_csv(r_list[0]).shape"
      ],
      "metadata": {
        "colab": {
          "base_uri": "https://localhost:8080/"
        },
        "id": "v49Itsja9XSd",
        "outputId": "4a1b2f98-002c-4895-94a9-8c551afdc0bf"
      },
      "id": "v49Itsja9XSd",
      "execution_count": 5,
      "outputs": [
        {
          "output_type": "execute_result",
          "data": {
            "text/plain": [
              "(26496, 4)"
            ]
          },
          "metadata": {},
          "execution_count": 5
        }
      ]
    },
    {
      "cell_type": "code",
      "execution_count": 6,
      "metadata": {
        "colab": {
          "base_uri": "https://localhost:8080/",
          "height": 175
        },
        "id": "fBJvHIPN0ZXv",
        "outputId": "49fa9660-1f0c-42b5-ed6f-5fb1f606a999"
      },
      "outputs": [
        {
          "output_type": "execute_result",
          "data": {
            "text/plain": [
              "              ymdhm     swl    inf     sfw   ecpc  tototf  tide_level  \\\n",
              "0  2012-05-01 00:00  24.800  555.0  219.07  24.93   555.0       445.0   \n",
              "1  2012-05-01 00:10  24.794  464.6  218.86  25.15   562.9       449.0   \n",
              "2  2012-05-01 00:20  24.789  478.1  218.69  25.31   576.4       451.0   \n",
              "3  2012-05-01 00:30  24.789  464.8  218.69  25.31   563.1       452.0   \n",
              "\n",
              "   wl_1018662  fw_1018662  wl_1018680  fw_1018680  wl_1018683  fw_1018683  \\\n",
              "0       310.7      469.05       300.2         0.0       290.0      729.80   \n",
              "1       314.7      498.00       300.2         0.0       290.0      731.48   \n",
              "2       313.7      490.68       301.2         0.0       290.0      726.42   \n",
              "3       311.7      476.21       301.2         0.0       290.0      726.42   \n",
              "\n",
              "   wl_1019630  fw_1019630  \n",
              "0       275.3      540.18  \n",
              "1       275.3      540.18  \n",
              "2       275.3      540.18  \n",
              "3       276.3      552.17  "
            ],
            "text/html": [
              "\n",
              "  <div id=\"df-dd896999-acd0-4442-acb4-0a62d8b8cbd2\">\n",
              "    <div class=\"colab-df-container\">\n",
              "      <div>\n",
              "<style scoped>\n",
              "    .dataframe tbody tr th:only-of-type {\n",
              "        vertical-align: middle;\n",
              "    }\n",
              "\n",
              "    .dataframe tbody tr th {\n",
              "        vertical-align: top;\n",
              "    }\n",
              "\n",
              "    .dataframe thead th {\n",
              "        text-align: right;\n",
              "    }\n",
              "</style>\n",
              "<table border=\"1\" class=\"dataframe\">\n",
              "  <thead>\n",
              "    <tr style=\"text-align: right;\">\n",
              "      <th></th>\n",
              "      <th>ymdhm</th>\n",
              "      <th>swl</th>\n",
              "      <th>inf</th>\n",
              "      <th>sfw</th>\n",
              "      <th>ecpc</th>\n",
              "      <th>tototf</th>\n",
              "      <th>tide_level</th>\n",
              "      <th>wl_1018662</th>\n",
              "      <th>fw_1018662</th>\n",
              "      <th>wl_1018680</th>\n",
              "      <th>fw_1018680</th>\n",
              "      <th>wl_1018683</th>\n",
              "      <th>fw_1018683</th>\n",
              "      <th>wl_1019630</th>\n",
              "      <th>fw_1019630</th>\n",
              "    </tr>\n",
              "  </thead>\n",
              "  <tbody>\n",
              "    <tr>\n",
              "      <th>0</th>\n",
              "      <td>2012-05-01 00:00</td>\n",
              "      <td>24.800</td>\n",
              "      <td>555.0</td>\n",
              "      <td>219.07</td>\n",
              "      <td>24.93</td>\n",
              "      <td>555.0</td>\n",
              "      <td>445.0</td>\n",
              "      <td>310.7</td>\n",
              "      <td>469.05</td>\n",
              "      <td>300.2</td>\n",
              "      <td>0.0</td>\n",
              "      <td>290.0</td>\n",
              "      <td>729.80</td>\n",
              "      <td>275.3</td>\n",
              "      <td>540.18</td>\n",
              "    </tr>\n",
              "    <tr>\n",
              "      <th>1</th>\n",
              "      <td>2012-05-01 00:10</td>\n",
              "      <td>24.794</td>\n",
              "      <td>464.6</td>\n",
              "      <td>218.86</td>\n",
              "      <td>25.15</td>\n",
              "      <td>562.9</td>\n",
              "      <td>449.0</td>\n",
              "      <td>314.7</td>\n",
              "      <td>498.00</td>\n",
              "      <td>300.2</td>\n",
              "      <td>0.0</td>\n",
              "      <td>290.0</td>\n",
              "      <td>731.48</td>\n",
              "      <td>275.3</td>\n",
              "      <td>540.18</td>\n",
              "    </tr>\n",
              "    <tr>\n",
              "      <th>2</th>\n",
              "      <td>2012-05-01 00:20</td>\n",
              "      <td>24.789</td>\n",
              "      <td>478.1</td>\n",
              "      <td>218.69</td>\n",
              "      <td>25.31</td>\n",
              "      <td>576.4</td>\n",
              "      <td>451.0</td>\n",
              "      <td>313.7</td>\n",
              "      <td>490.68</td>\n",
              "      <td>301.2</td>\n",
              "      <td>0.0</td>\n",
              "      <td>290.0</td>\n",
              "      <td>726.42</td>\n",
              "      <td>275.3</td>\n",
              "      <td>540.18</td>\n",
              "    </tr>\n",
              "    <tr>\n",
              "      <th>3</th>\n",
              "      <td>2012-05-01 00:30</td>\n",
              "      <td>24.789</td>\n",
              "      <td>464.8</td>\n",
              "      <td>218.69</td>\n",
              "      <td>25.31</td>\n",
              "      <td>563.1</td>\n",
              "      <td>452.0</td>\n",
              "      <td>311.7</td>\n",
              "      <td>476.21</td>\n",
              "      <td>301.2</td>\n",
              "      <td>0.0</td>\n",
              "      <td>290.0</td>\n",
              "      <td>726.42</td>\n",
              "      <td>276.3</td>\n",
              "      <td>552.17</td>\n",
              "    </tr>\n",
              "  </tbody>\n",
              "</table>\n",
              "</div>\n",
              "      <button class=\"colab-df-convert\" onclick=\"convertToInteractive('df-dd896999-acd0-4442-acb4-0a62d8b8cbd2')\"\n",
              "              title=\"Convert this dataframe to an interactive table.\"\n",
              "              style=\"display:none;\">\n",
              "        \n",
              "  <svg xmlns=\"http://www.w3.org/2000/svg\" height=\"24px\"viewBox=\"0 0 24 24\"\n",
              "       width=\"24px\">\n",
              "    <path d=\"M0 0h24v24H0V0z\" fill=\"none\"/>\n",
              "    <path d=\"M18.56 5.44l.94 2.06.94-2.06 2.06-.94-2.06-.94-.94-2.06-.94 2.06-2.06.94zm-11 1L8.5 8.5l.94-2.06 2.06-.94-2.06-.94L8.5 2.5l-.94 2.06-2.06.94zm10 10l.94 2.06.94-2.06 2.06-.94-2.06-.94-.94-2.06-.94 2.06-2.06.94z\"/><path d=\"M17.41 7.96l-1.37-1.37c-.4-.4-.92-.59-1.43-.59-.52 0-1.04.2-1.43.59L10.3 9.45l-7.72 7.72c-.78.78-.78 2.05 0 2.83L4 21.41c.39.39.9.59 1.41.59.51 0 1.02-.2 1.41-.59l7.78-7.78 2.81-2.81c.8-.78.8-2.07 0-2.86zM5.41 20L4 18.59l7.72-7.72 1.47 1.35L5.41 20z\"/>\n",
              "  </svg>\n",
              "      </button>\n",
              "      \n",
              "  <style>\n",
              "    .colab-df-container {\n",
              "      display:flex;\n",
              "      flex-wrap:wrap;\n",
              "      gap: 12px;\n",
              "    }\n",
              "\n",
              "    .colab-df-convert {\n",
              "      background-color: #E8F0FE;\n",
              "      border: none;\n",
              "      border-radius: 50%;\n",
              "      cursor: pointer;\n",
              "      display: none;\n",
              "      fill: #1967D2;\n",
              "      height: 32px;\n",
              "      padding: 0 0 0 0;\n",
              "      width: 32px;\n",
              "    }\n",
              "\n",
              "    .colab-df-convert:hover {\n",
              "      background-color: #E2EBFA;\n",
              "      box-shadow: 0px 1px 2px rgba(60, 64, 67, 0.3), 0px 1px 3px 1px rgba(60, 64, 67, 0.15);\n",
              "      fill: #174EA6;\n",
              "    }\n",
              "\n",
              "    [theme=dark] .colab-df-convert {\n",
              "      background-color: #3B4455;\n",
              "      fill: #D2E3FC;\n",
              "    }\n",
              "\n",
              "    [theme=dark] .colab-df-convert:hover {\n",
              "      background-color: #434B5C;\n",
              "      box-shadow: 0px 1px 3px 1px rgba(0, 0, 0, 0.15);\n",
              "      filter: drop-shadow(0px 1px 2px rgba(0, 0, 0, 0.3));\n",
              "      fill: #FFFFFF;\n",
              "    }\n",
              "  </style>\n",
              "\n",
              "      <script>\n",
              "        const buttonEl =\n",
              "          document.querySelector('#df-dd896999-acd0-4442-acb4-0a62d8b8cbd2 button.colab-df-convert');\n",
              "        buttonEl.style.display =\n",
              "          google.colab.kernel.accessAllowed ? 'block' : 'none';\n",
              "\n",
              "        async function convertToInteractive(key) {\n",
              "          const element = document.querySelector('#df-dd896999-acd0-4442-acb4-0a62d8b8cbd2');\n",
              "          const dataTable =\n",
              "            await google.colab.kernel.invokeFunction('convertToInteractive',\n",
              "                                                     [key], {});\n",
              "          if (!dataTable) return;\n",
              "\n",
              "          const docLinkHtml = 'Like what you see? Visit the ' +\n",
              "            '<a target=\"_blank\" href=https://colab.research.google.com/notebooks/data_table.ipynb>data table notebook</a>'\n",
              "            + ' to learn more about interactive tables.';\n",
              "          element.innerHTML = '';\n",
              "          dataTable['output_type'] = 'display_data';\n",
              "          await google.colab.output.renderOutput(dataTable, element);\n",
              "          const docLink = document.createElement('div');\n",
              "          docLink.innerHTML = docLinkHtml;\n",
              "          element.appendChild(docLink);\n",
              "        }\n",
              "      </script>\n",
              "    </div>\n",
              "  </div>\n",
              "  "
            ]
          },
          "metadata": {},
          "execution_count": 6
        }
      ],
      "source": [
        "pd.read_csv(w_list[0]).head(4)"
      ],
      "id": "fBJvHIPN0ZXv"
    },
    {
      "cell_type": "code",
      "source": [
        "pd.read_csv(w_list[0]).describe()"
      ],
      "metadata": {
        "colab": {
          "base_uri": "https://localhost:8080/",
          "height": 364
        },
        "id": "PUpfclmJ9wnY",
        "outputId": "b02c93c7-0842-4ede-f7fd-f7c2bff74370"
      },
      "id": "PUpfclmJ9wnY",
      "execution_count": 7,
      "outputs": [
        {
          "output_type": "execute_result",
          "data": {
            "text/plain": [
              "                swl           inf           sfw          ecpc        tototf  \\\n",
              "count  26495.000000  26495.000000  26495.000000  26495.000000  26495.000000   \n",
              "mean      25.042453    674.198675    229.294549     14.706602    675.913304   \n",
              "std        1.277750    881.191078     12.625652     12.625592    878.086197   \n",
              "min        0.000000   -807.500000      0.000000      2.150000      0.000000   \n",
              "25%       25.030000    156.050000    227.080000     10.780000    143.400000   \n",
              "50%       25.120000    364.900000    230.330000     13.670000    359.800000   \n",
              "75%       25.200000    765.200000    233.220000     16.930000    756.050000   \n",
              "max       25.439000   7693.000000    241.850000    244.000000   7837.700000   \n",
              "\n",
              "         tide_level    wl_1018662    fw_1018662    wl_1018680  fw_1018680  \\\n",
              "count  25720.000000  26496.000000  26496.000000  26496.000000     26496.0   \n",
              "mean     354.248911    339.474909    826.061119    322.935470         0.0   \n",
              "std      171.386529     67.209232    912.423482     58.278871         0.0   \n",
              "min       71.000000    264.700000    243.290000    264.200000         0.0   \n",
              "25%      204.000000    295.700000    368.420000    283.200000         0.0   \n",
              "50%      332.000000    314.700000    498.000000    302.200000         0.0   \n",
              "75%      492.000000    361.700000    905.320000    342.200000         0.0   \n",
              "max      793.000000    761.700000   9405.640000    703.200000         0.0   \n",
              "\n",
              "         wl_1018683    fw_1018683    wl_1019630    fw_1019630  \n",
              "count  26496.000000  26496.000000  26496.000000  26496.000000  \n",
              "mean     318.738489    751.475707    302.936322   1089.279554  \n",
              "std       58.698993   1094.658477     49.652259   1101.845511  \n",
              "min      253.000000  -3299.970000    241.300000    212.040000  \n",
              "25%      278.000000    257.197500    267.300000    449.120000  \n",
              "50%      300.000000    495.380000    288.300000    706.480000  \n",
              "75%      340.000000   1021.357500    325.300000   1304.910000  \n",
              "max      694.000000   9762.540000    638.300000  13983.590000  "
            ],
            "text/html": [
              "\n",
              "  <div id=\"df-2b730f72-54fa-4df4-b54f-f6e300e5a018\">\n",
              "    <div class=\"colab-df-container\">\n",
              "      <div>\n",
              "<style scoped>\n",
              "    .dataframe tbody tr th:only-of-type {\n",
              "        vertical-align: middle;\n",
              "    }\n",
              "\n",
              "    .dataframe tbody tr th {\n",
              "        vertical-align: top;\n",
              "    }\n",
              "\n",
              "    .dataframe thead th {\n",
              "        text-align: right;\n",
              "    }\n",
              "</style>\n",
              "<table border=\"1\" class=\"dataframe\">\n",
              "  <thead>\n",
              "    <tr style=\"text-align: right;\">\n",
              "      <th></th>\n",
              "      <th>swl</th>\n",
              "      <th>inf</th>\n",
              "      <th>sfw</th>\n",
              "      <th>ecpc</th>\n",
              "      <th>tototf</th>\n",
              "      <th>tide_level</th>\n",
              "      <th>wl_1018662</th>\n",
              "      <th>fw_1018662</th>\n",
              "      <th>wl_1018680</th>\n",
              "      <th>fw_1018680</th>\n",
              "      <th>wl_1018683</th>\n",
              "      <th>fw_1018683</th>\n",
              "      <th>wl_1019630</th>\n",
              "      <th>fw_1019630</th>\n",
              "    </tr>\n",
              "  </thead>\n",
              "  <tbody>\n",
              "    <tr>\n",
              "      <th>count</th>\n",
              "      <td>26495.000000</td>\n",
              "      <td>26495.000000</td>\n",
              "      <td>26495.000000</td>\n",
              "      <td>26495.000000</td>\n",
              "      <td>26495.000000</td>\n",
              "      <td>25720.000000</td>\n",
              "      <td>26496.000000</td>\n",
              "      <td>26496.000000</td>\n",
              "      <td>26496.000000</td>\n",
              "      <td>26496.0</td>\n",
              "      <td>26496.000000</td>\n",
              "      <td>26496.000000</td>\n",
              "      <td>26496.000000</td>\n",
              "      <td>26496.000000</td>\n",
              "    </tr>\n",
              "    <tr>\n",
              "      <th>mean</th>\n",
              "      <td>25.042453</td>\n",
              "      <td>674.198675</td>\n",
              "      <td>229.294549</td>\n",
              "      <td>14.706602</td>\n",
              "      <td>675.913304</td>\n",
              "      <td>354.248911</td>\n",
              "      <td>339.474909</td>\n",
              "      <td>826.061119</td>\n",
              "      <td>322.935470</td>\n",
              "      <td>0.0</td>\n",
              "      <td>318.738489</td>\n",
              "      <td>751.475707</td>\n",
              "      <td>302.936322</td>\n",
              "      <td>1089.279554</td>\n",
              "    </tr>\n",
              "    <tr>\n",
              "      <th>std</th>\n",
              "      <td>1.277750</td>\n",
              "      <td>881.191078</td>\n",
              "      <td>12.625652</td>\n",
              "      <td>12.625592</td>\n",
              "      <td>878.086197</td>\n",
              "      <td>171.386529</td>\n",
              "      <td>67.209232</td>\n",
              "      <td>912.423482</td>\n",
              "      <td>58.278871</td>\n",
              "      <td>0.0</td>\n",
              "      <td>58.698993</td>\n",
              "      <td>1094.658477</td>\n",
              "      <td>49.652259</td>\n",
              "      <td>1101.845511</td>\n",
              "    </tr>\n",
              "    <tr>\n",
              "      <th>min</th>\n",
              "      <td>0.000000</td>\n",
              "      <td>-807.500000</td>\n",
              "      <td>0.000000</td>\n",
              "      <td>2.150000</td>\n",
              "      <td>0.000000</td>\n",
              "      <td>71.000000</td>\n",
              "      <td>264.700000</td>\n",
              "      <td>243.290000</td>\n",
              "      <td>264.200000</td>\n",
              "      <td>0.0</td>\n",
              "      <td>253.000000</td>\n",
              "      <td>-3299.970000</td>\n",
              "      <td>241.300000</td>\n",
              "      <td>212.040000</td>\n",
              "    </tr>\n",
              "    <tr>\n",
              "      <th>25%</th>\n",
              "      <td>25.030000</td>\n",
              "      <td>156.050000</td>\n",
              "      <td>227.080000</td>\n",
              "      <td>10.780000</td>\n",
              "      <td>143.400000</td>\n",
              "      <td>204.000000</td>\n",
              "      <td>295.700000</td>\n",
              "      <td>368.420000</td>\n",
              "      <td>283.200000</td>\n",
              "      <td>0.0</td>\n",
              "      <td>278.000000</td>\n",
              "      <td>257.197500</td>\n",
              "      <td>267.300000</td>\n",
              "      <td>449.120000</td>\n",
              "    </tr>\n",
              "    <tr>\n",
              "      <th>50%</th>\n",
              "      <td>25.120000</td>\n",
              "      <td>364.900000</td>\n",
              "      <td>230.330000</td>\n",
              "      <td>13.670000</td>\n",
              "      <td>359.800000</td>\n",
              "      <td>332.000000</td>\n",
              "      <td>314.700000</td>\n",
              "      <td>498.000000</td>\n",
              "      <td>302.200000</td>\n",
              "      <td>0.0</td>\n",
              "      <td>300.000000</td>\n",
              "      <td>495.380000</td>\n",
              "      <td>288.300000</td>\n",
              "      <td>706.480000</td>\n",
              "    </tr>\n",
              "    <tr>\n",
              "      <th>75%</th>\n",
              "      <td>25.200000</td>\n",
              "      <td>765.200000</td>\n",
              "      <td>233.220000</td>\n",
              "      <td>16.930000</td>\n",
              "      <td>756.050000</td>\n",
              "      <td>492.000000</td>\n",
              "      <td>361.700000</td>\n",
              "      <td>905.320000</td>\n",
              "      <td>342.200000</td>\n",
              "      <td>0.0</td>\n",
              "      <td>340.000000</td>\n",
              "      <td>1021.357500</td>\n",
              "      <td>325.300000</td>\n",
              "      <td>1304.910000</td>\n",
              "    </tr>\n",
              "    <tr>\n",
              "      <th>max</th>\n",
              "      <td>25.439000</td>\n",
              "      <td>7693.000000</td>\n",
              "      <td>241.850000</td>\n",
              "      <td>244.000000</td>\n",
              "      <td>7837.700000</td>\n",
              "      <td>793.000000</td>\n",
              "      <td>761.700000</td>\n",
              "      <td>9405.640000</td>\n",
              "      <td>703.200000</td>\n",
              "      <td>0.0</td>\n",
              "      <td>694.000000</td>\n",
              "      <td>9762.540000</td>\n",
              "      <td>638.300000</td>\n",
              "      <td>13983.590000</td>\n",
              "    </tr>\n",
              "  </tbody>\n",
              "</table>\n",
              "</div>\n",
              "      <button class=\"colab-df-convert\" onclick=\"convertToInteractive('df-2b730f72-54fa-4df4-b54f-f6e300e5a018')\"\n",
              "              title=\"Convert this dataframe to an interactive table.\"\n",
              "              style=\"display:none;\">\n",
              "        \n",
              "  <svg xmlns=\"http://www.w3.org/2000/svg\" height=\"24px\"viewBox=\"0 0 24 24\"\n",
              "       width=\"24px\">\n",
              "    <path d=\"M0 0h24v24H0V0z\" fill=\"none\"/>\n",
              "    <path d=\"M18.56 5.44l.94 2.06.94-2.06 2.06-.94-2.06-.94-.94-2.06-.94 2.06-2.06.94zm-11 1L8.5 8.5l.94-2.06 2.06-.94-2.06-.94L8.5 2.5l-.94 2.06-2.06.94zm10 10l.94 2.06.94-2.06 2.06-.94-2.06-.94-.94-2.06-.94 2.06-2.06.94z\"/><path d=\"M17.41 7.96l-1.37-1.37c-.4-.4-.92-.59-1.43-.59-.52 0-1.04.2-1.43.59L10.3 9.45l-7.72 7.72c-.78.78-.78 2.05 0 2.83L4 21.41c.39.39.9.59 1.41.59.51 0 1.02-.2 1.41-.59l7.78-7.78 2.81-2.81c.8-.78.8-2.07 0-2.86zM5.41 20L4 18.59l7.72-7.72 1.47 1.35L5.41 20z\"/>\n",
              "  </svg>\n",
              "      </button>\n",
              "      \n",
              "  <style>\n",
              "    .colab-df-container {\n",
              "      display:flex;\n",
              "      flex-wrap:wrap;\n",
              "      gap: 12px;\n",
              "    }\n",
              "\n",
              "    .colab-df-convert {\n",
              "      background-color: #E8F0FE;\n",
              "      border: none;\n",
              "      border-radius: 50%;\n",
              "      cursor: pointer;\n",
              "      display: none;\n",
              "      fill: #1967D2;\n",
              "      height: 32px;\n",
              "      padding: 0 0 0 0;\n",
              "      width: 32px;\n",
              "    }\n",
              "\n",
              "    .colab-df-convert:hover {\n",
              "      background-color: #E2EBFA;\n",
              "      box-shadow: 0px 1px 2px rgba(60, 64, 67, 0.3), 0px 1px 3px 1px rgba(60, 64, 67, 0.15);\n",
              "      fill: #174EA6;\n",
              "    }\n",
              "\n",
              "    [theme=dark] .colab-df-convert {\n",
              "      background-color: #3B4455;\n",
              "      fill: #D2E3FC;\n",
              "    }\n",
              "\n",
              "    [theme=dark] .colab-df-convert:hover {\n",
              "      background-color: #434B5C;\n",
              "      box-shadow: 0px 1px 3px 1px rgba(0, 0, 0, 0.15);\n",
              "      filter: drop-shadow(0px 1px 2px rgba(0, 0, 0, 0.3));\n",
              "      fill: #FFFFFF;\n",
              "    }\n",
              "  </style>\n",
              "\n",
              "      <script>\n",
              "        const buttonEl =\n",
              "          document.querySelector('#df-2b730f72-54fa-4df4-b54f-f6e300e5a018 button.colab-df-convert');\n",
              "        buttonEl.style.display =\n",
              "          google.colab.kernel.accessAllowed ? 'block' : 'none';\n",
              "\n",
              "        async function convertToInteractive(key) {\n",
              "          const element = document.querySelector('#df-2b730f72-54fa-4df4-b54f-f6e300e5a018');\n",
              "          const dataTable =\n",
              "            await google.colab.kernel.invokeFunction('convertToInteractive',\n",
              "                                                     [key], {});\n",
              "          if (!dataTable) return;\n",
              "\n",
              "          const docLinkHtml = 'Like what you see? Visit the ' +\n",
              "            '<a target=\"_blank\" href=https://colab.research.google.com/notebooks/data_table.ipynb>data table notebook</a>'\n",
              "            + ' to learn more about interactive tables.';\n",
              "          element.innerHTML = '';\n",
              "          dataTable['output_type'] = 'display_data';\n",
              "          await google.colab.output.renderOutput(dataTable, element);\n",
              "          const docLink = document.createElement('div');\n",
              "          docLink.innerHTML = docLinkHtml;\n",
              "          element.appendChild(docLink);\n",
              "        }\n",
              "      </script>\n",
              "    </div>\n",
              "  </div>\n",
              "  "
            ]
          },
          "metadata": {},
          "execution_count": 7
        }
      ]
    },
    {
      "cell_type": "markdown",
      "source": [
        "유입량의 최솟값이 음수  \n",
        "fw_1018683의 최솟값이 음수 로 나타난다."
      ],
      "metadata": {
        "id": "V8HElPxm-AKD"
      },
      "id": "V8HElPxm-AKD"
    },
    {
      "cell_type": "code",
      "source": [
        "pd.read_csv(r_list[0]).describe()"
      ],
      "metadata": {
        "colab": {
          "base_uri": "https://localhost:8080/",
          "height": 300
        },
        "id": "m5Wie_E49iGF",
        "outputId": "d8d0161e-b6db-4c34-fdc3-a6fa6398c412"
      },
      "id": "m5Wie_E49iGF",
      "execution_count": 8,
      "outputs": [
        {
          "output_type": "execute_result",
          "data": {
            "text/plain": [
              "        rf_10184100   rf_10184110   rf_10184140\n",
              "count  26496.000000  26496.000000  26496.000000\n",
              "mean       0.050725      0.053555      0.057216\n",
              "std        0.418925      0.453166      0.496421\n",
              "min        0.000000      0.000000      0.000000\n",
              "25%        0.000000      0.000000      0.000000\n",
              "50%        0.000000      0.000000      0.000000\n",
              "75%        0.000000      0.000000      0.000000\n",
              "max       14.000000     19.000000     21.000000"
            ],
            "text/html": [
              "\n",
              "  <div id=\"df-7a8f0e54-a845-4b7a-be97-e0949f7c7485\">\n",
              "    <div class=\"colab-df-container\">\n",
              "      <div>\n",
              "<style scoped>\n",
              "    .dataframe tbody tr th:only-of-type {\n",
              "        vertical-align: middle;\n",
              "    }\n",
              "\n",
              "    .dataframe tbody tr th {\n",
              "        vertical-align: top;\n",
              "    }\n",
              "\n",
              "    .dataframe thead th {\n",
              "        text-align: right;\n",
              "    }\n",
              "</style>\n",
              "<table border=\"1\" class=\"dataframe\">\n",
              "  <thead>\n",
              "    <tr style=\"text-align: right;\">\n",
              "      <th></th>\n",
              "      <th>rf_10184100</th>\n",
              "      <th>rf_10184110</th>\n",
              "      <th>rf_10184140</th>\n",
              "    </tr>\n",
              "  </thead>\n",
              "  <tbody>\n",
              "    <tr>\n",
              "      <th>count</th>\n",
              "      <td>26496.000000</td>\n",
              "      <td>26496.000000</td>\n",
              "      <td>26496.000000</td>\n",
              "    </tr>\n",
              "    <tr>\n",
              "      <th>mean</th>\n",
              "      <td>0.050725</td>\n",
              "      <td>0.053555</td>\n",
              "      <td>0.057216</td>\n",
              "    </tr>\n",
              "    <tr>\n",
              "      <th>std</th>\n",
              "      <td>0.418925</td>\n",
              "      <td>0.453166</td>\n",
              "      <td>0.496421</td>\n",
              "    </tr>\n",
              "    <tr>\n",
              "      <th>min</th>\n",
              "      <td>0.000000</td>\n",
              "      <td>0.000000</td>\n",
              "      <td>0.000000</td>\n",
              "    </tr>\n",
              "    <tr>\n",
              "      <th>25%</th>\n",
              "      <td>0.000000</td>\n",
              "      <td>0.000000</td>\n",
              "      <td>0.000000</td>\n",
              "    </tr>\n",
              "    <tr>\n",
              "      <th>50%</th>\n",
              "      <td>0.000000</td>\n",
              "      <td>0.000000</td>\n",
              "      <td>0.000000</td>\n",
              "    </tr>\n",
              "    <tr>\n",
              "      <th>75%</th>\n",
              "      <td>0.000000</td>\n",
              "      <td>0.000000</td>\n",
              "      <td>0.000000</td>\n",
              "    </tr>\n",
              "    <tr>\n",
              "      <th>max</th>\n",
              "      <td>14.000000</td>\n",
              "      <td>19.000000</td>\n",
              "      <td>21.000000</td>\n",
              "    </tr>\n",
              "  </tbody>\n",
              "</table>\n",
              "</div>\n",
              "      <button class=\"colab-df-convert\" onclick=\"convertToInteractive('df-7a8f0e54-a845-4b7a-be97-e0949f7c7485')\"\n",
              "              title=\"Convert this dataframe to an interactive table.\"\n",
              "              style=\"display:none;\">\n",
              "        \n",
              "  <svg xmlns=\"http://www.w3.org/2000/svg\" height=\"24px\"viewBox=\"0 0 24 24\"\n",
              "       width=\"24px\">\n",
              "    <path d=\"M0 0h24v24H0V0z\" fill=\"none\"/>\n",
              "    <path d=\"M18.56 5.44l.94 2.06.94-2.06 2.06-.94-2.06-.94-.94-2.06-.94 2.06-2.06.94zm-11 1L8.5 8.5l.94-2.06 2.06-.94-2.06-.94L8.5 2.5l-.94 2.06-2.06.94zm10 10l.94 2.06.94-2.06 2.06-.94-2.06-.94-.94-2.06-.94 2.06-2.06.94z\"/><path d=\"M17.41 7.96l-1.37-1.37c-.4-.4-.92-.59-1.43-.59-.52 0-1.04.2-1.43.59L10.3 9.45l-7.72 7.72c-.78.78-.78 2.05 0 2.83L4 21.41c.39.39.9.59 1.41.59.51 0 1.02-.2 1.41-.59l7.78-7.78 2.81-2.81c.8-.78.8-2.07 0-2.86zM5.41 20L4 18.59l7.72-7.72 1.47 1.35L5.41 20z\"/>\n",
              "  </svg>\n",
              "      </button>\n",
              "      \n",
              "  <style>\n",
              "    .colab-df-container {\n",
              "      display:flex;\n",
              "      flex-wrap:wrap;\n",
              "      gap: 12px;\n",
              "    }\n",
              "\n",
              "    .colab-df-convert {\n",
              "      background-color: #E8F0FE;\n",
              "      border: none;\n",
              "      border-radius: 50%;\n",
              "      cursor: pointer;\n",
              "      display: none;\n",
              "      fill: #1967D2;\n",
              "      height: 32px;\n",
              "      padding: 0 0 0 0;\n",
              "      width: 32px;\n",
              "    }\n",
              "\n",
              "    .colab-df-convert:hover {\n",
              "      background-color: #E2EBFA;\n",
              "      box-shadow: 0px 1px 2px rgba(60, 64, 67, 0.3), 0px 1px 3px 1px rgba(60, 64, 67, 0.15);\n",
              "      fill: #174EA6;\n",
              "    }\n",
              "\n",
              "    [theme=dark] .colab-df-convert {\n",
              "      background-color: #3B4455;\n",
              "      fill: #D2E3FC;\n",
              "    }\n",
              "\n",
              "    [theme=dark] .colab-df-convert:hover {\n",
              "      background-color: #434B5C;\n",
              "      box-shadow: 0px 1px 3px 1px rgba(0, 0, 0, 0.15);\n",
              "      filter: drop-shadow(0px 1px 2px rgba(0, 0, 0, 0.3));\n",
              "      fill: #FFFFFF;\n",
              "    }\n",
              "  </style>\n",
              "\n",
              "      <script>\n",
              "        const buttonEl =\n",
              "          document.querySelector('#df-7a8f0e54-a845-4b7a-be97-e0949f7c7485 button.colab-df-convert');\n",
              "        buttonEl.style.display =\n",
              "          google.colab.kernel.accessAllowed ? 'block' : 'none';\n",
              "\n",
              "        async function convertToInteractive(key) {\n",
              "          const element = document.querySelector('#df-7a8f0e54-a845-4b7a-be97-e0949f7c7485');\n",
              "          const dataTable =\n",
              "            await google.colab.kernel.invokeFunction('convertToInteractive',\n",
              "                                                     [key], {});\n",
              "          if (!dataTable) return;\n",
              "\n",
              "          const docLinkHtml = 'Like what you see? Visit the ' +\n",
              "            '<a target=\"_blank\" href=https://colab.research.google.com/notebooks/data_table.ipynb>data table notebook</a>'\n",
              "            + ' to learn more about interactive tables.';\n",
              "          element.innerHTML = '';\n",
              "          dataTable['output_type'] = 'display_data';\n",
              "          await google.colab.output.renderOutput(dataTable, element);\n",
              "          const docLink = document.createElement('div');\n",
              "          docLink.innerHTML = docLinkHtml;\n",
              "          element.appendChild(docLink);\n",
              "        }\n",
              "      </script>\n",
              "    </div>\n",
              "  </div>\n",
              "  "
            ]
          },
          "metadata": {},
          "execution_count": 8
        }
      ]
    },
    {
      "cell_type": "code",
      "source": [
        "# Scaler\n",
        "# StandardScaler\n",
        "def scaler1(tmp):\n",
        "    scaler = StandardScaler()\n",
        "    tmp_df = pd.DataFrame(data=tmp, columns=[\"swl\", \"inf\", \"sfw\", \"ecpc\",\n",
        "                                                       \"tototf\", \"tide_level\"])\n",
        "    scaler.fit(tmp_df)\n",
        "    tmp_scaled = scaler.transform(tmp_df)\n",
        "\n",
        "    tmp_df_scaled = pd.DataFrame(data=tmp_scaled, columns=[\"swl\", \"inf\", \"sfw\", \"ecpc\",\n",
        "                                                       \"tototf\", \"tide_level\"])\n",
        "    return tmp_df_scaled\n",
        "    \n",
        "# MinMaxScaler\n",
        "def scaler2(tmp):\n",
        "    scaler = MinMaxScaler()\n",
        "    tmp_df = pd.DataFrame(data=tmp, columns=[\"swl\", \"inf\", \"sfw\", \"ecpc\",\n",
        "                                                       \"tototf\", \"tide_level\"])\n",
        "    scaler.fit(tmp_df)\n",
        "    tmp_scaled = scaler.transform(tmp_df)\n",
        "    \n",
        "    tmp_df_scaled = pd.DataFrame(data=tmp_scaled, columns=[\"swl\", \"inf\", \"sfw\", \"ecpc\",\n",
        "                                                       \"tototf\", \"tide_level\"])   \n",
        "    return tmp_df_scaled"
      ],
      "metadata": {
        "id": "La5qsCeXPGTU"
      },
      "id": "La5qsCeXPGTU",
      "execution_count": 9,
      "outputs": []
    },
    {
      "cell_type": "code",
      "execution_count": 10,
      "metadata": {
        "colab": {
          "base_uri": "https://localhost:8080/"
        },
        "id": "Lb7RXz8i0ZXw",
        "outputId": "8de02782-d326-45d8-e74b-aafb2e22908d"
      },
      "outputs": [
        {
          "output_type": "stream",
          "name": "stderr",
          "text": [
            "100%|██████████| 26064/26064 [00:28<00:00, 914.70it/s]\n",
            "100%|██████████| 26064/26064 [00:27<00:00, 937.84it/s]\n",
            "100%|██████████| 26064/26064 [00:27<00:00, 958.60it/s]\n",
            "100%|██████████| 26064/26064 [00:27<00:00, 960.60it/s]\n",
            "100%|██████████| 26064/26064 [00:27<00:00, 960.26it/s]\n",
            "100%|██████████| 26064/26064 [00:27<00:00, 959.15it/s]\n",
            "100%|██████████| 26064/26064 [00:27<00:00, 956.77it/s]\n",
            "100%|██████████| 26064/26064 [00:27<00:00, 961.59it/s]\n",
            "100%|██████████| 26064/26064 [00:27<00:00, 955.67it/s]\n",
            "100%|██████████| 26064/26064 [00:27<00:00, 958.73it/s]\n"
          ]
        }
      ],
      "source": [
        "train_data = []\n",
        "train_label = []\n",
        "num = 0\n",
        "\n",
        "for i in w_list[:-1]:\n",
        "    \n",
        "    tmp = pd.read_csv(i)\n",
        "    tmp = tmp.replace(\" \", np.nan)\n",
        "    tmp = tmp.interpolate(method = 'values')\n",
        "    tmp = tmp.fillna(0)\n",
        "    tmp1 = scaler2(tmp)\n",
        "    tmp = tmp.assign(swl1 = tmp1['swl'],\n",
        "                   inf1 = tmp1['inf'],\n",
        "                   sfw1 = tmp1['sfw'],\n",
        "                   ecpc1 = tmp1['ecpc'],\n",
        "                   tototf1 = tmp1['tototf'],\n",
        "                   tide_level1 = tmp1['tide_level']\n",
        "                   )\n",
        "    \n",
        "    for j in tqdm(range(len(tmp)-432)):\n",
        "        train_data.append(np.array(tmp.loc[j:j + 431, [\"swl1\", \"inf1\", \"sfw1\", \"ecpc1\",\n",
        "                                                       \"tototf1\", \"tide_level1\",\n",
        "                                                       \"fw_1018662\", \"fw_1018680\",\n",
        "                                                       \"fw_1018683\", \"fw_1019630\"\n",
        "                                                       ]]).astype(float))\n",
        "        \n",
        "        train_label.append(np.array(tmp.loc[j + 432, [\"wl_1018662\", \"wl_1018680\",\n",
        "                                                      \"wl_1018683\", \"wl_1019630\"]]).astype(float))"
      ],
      "id": "Lb7RXz8i0ZXw"
    },
    {
      "cell_type": "code",
      "execution_count": 11,
      "metadata": {
        "colab": {
          "base_uri": "https://localhost:8080/"
        },
        "id": "ErWBWEM90ZXy",
        "outputId": "0863f893-ff62-4cc8-a1ec-ac156b8572a6"
      },
      "outputs": [
        {
          "output_type": "stream",
          "name": "stdout",
          "text": [
            "(260640, 432, 10)\n",
            "(260640, 4)\n"
          ]
        }
      ],
      "source": [
        "train_data = np.array(train_data)\n",
        "train_label = np.array(train_label)\n",
        "\n",
        "print(train_data.shape)\n",
        "print(train_label.shape)"
      ],
      "id": "ErWBWEM90ZXy"
    },
    {
      "cell_type": "markdown",
      "metadata": {
        "id": "q64P-YKy0ZX0"
      },
      "source": [
        "### 모델링 및 모델 학습"
      ],
      "id": "q64P-YKy0ZX0"
    },
    {
      "cell_type": "code",
      "execution_count": 12,
      "metadata": {
        "id": "BATsYCCi0ZX0"
      },
      "outputs": [],
      "source": [
        "input_shape = (train_data[0].shape[0], train_data[0].shape[1])\n",
        "\n",
        "model = Sequential()\n",
        "model.add(GRU(256, input_shape=input_shape))\n",
        "# model.add(Dense(128, activation = 'relu'))\n",
        "model.add(Dense(4, activation = 'relu'))\n",
        "\n",
        "optimizer = tf.optimizers.RMSprop(0.001)\n"
      ],
      "id": "BATsYCCi0ZX0"
    },
    {
      "cell_type": "code",
      "source": [
        "from keras.callbacks import EarlyStopping, ModelCheckpoint\n",
        "EPOCH = 20\n",
        "BATCH_SIZE = 256\n",
        "filename = 'checkpoint-epoch-{}-batch-{}-trial-001.h5'.format(EPOCH, BATCH_SIZE)\n",
        "checkpoint = ModelCheckpoint(filename,             # file명을 지정합니다\n",
        "                             monitor='loss',       # loss 값이 개선되었을때 호출됩니다\n",
        "                             save_best_only=True,  # 가장 best 값만 저장합니다\n",
        "                             mode='auto'           # auto는 알아서 best를 찾습니다. min/max\n",
        "                            )\n",
        "\n",
        "earlystopping = EarlyStopping(monitor='loss',  # 모니터 기준 설정 (val loss) \n",
        "                              patience=3,         # 10회 Epoch동안 개선되지 않는다면 종료\n",
        "                             )\n",
        "\n",
        "\n",
        "model.compile(optimizer=optimizer,loss='mse', metrics=['mae'])"
      ],
      "metadata": {
        "id": "EY8FjHidUeJ0"
      },
      "id": "EY8FjHidUeJ0",
      "execution_count": 13,
      "outputs": []
    },
    {
      "cell_type": "code",
      "execution_count": 14,
      "metadata": {
        "colab": {
          "base_uri": "https://localhost:8080/"
        },
        "id": "xC7EYAmo0ZX1",
        "outputId": "5de8a23f-2a19-40e0-a562-f1cdc569f715"
      },
      "outputs": [
        {
          "output_type": "stream",
          "name": "stdout",
          "text": [
            "Epoch 1/20\n",
            "1019/1019 [==============================] - 66s 61ms/step - loss: 45331.1289 - mae: 190.1259\n",
            "Epoch 2/20\n",
            "1019/1019 [==============================] - 62s 61ms/step - loss: 4037.6711 - mae: 34.5400\n",
            "Epoch 3/20\n",
            "1019/1019 [==============================] - 62s 61ms/step - loss: 1341.7720 - mae: 13.9009\n",
            "Epoch 4/20\n",
            "1019/1019 [==============================] - 63s 61ms/step - loss: 761.5567 - mae: 10.2492\n",
            "Epoch 5/20\n",
            "1019/1019 [==============================] - 62s 61ms/step - loss: 626.5641 - mae: 9.3045\n",
            "Epoch 6/20\n",
            "1019/1019 [==============================] - 62s 61ms/step - loss: 508.6629 - mae: 8.5131\n",
            "Epoch 7/20\n",
            "1019/1019 [==============================] - 63s 61ms/step - loss: 443.1852 - mae: 8.1741\n",
            "Epoch 8/20\n",
            "1019/1019 [==============================] - 63s 62ms/step - loss: 400.8487 - mae: 7.9467\n",
            "Epoch 9/20\n",
            "1019/1019 [==============================] - 63s 61ms/step - loss: 477.2819 - mae: 8.2802\n",
            "Epoch 10/20\n",
            "1019/1019 [==============================] - 63s 61ms/step - loss: 413.4499 - mae: 7.9120\n",
            "Epoch 11/20\n",
            "1019/1019 [==============================] - 63s 62ms/step - loss: 433.0910 - mae: 7.9517\n"
          ]
        },
        {
          "output_type": "execute_result",
          "data": {
            "text/plain": [
              "<keras.callbacks.History at 0x7f91b7c27990>"
            ]
          },
          "metadata": {},
          "execution_count": 14
        }
      ],
      "source": [
        "model.fit(train_data, train_label,\n",
        "          callbacks=[checkpoint, earlystopping], \n",
        "          epochs=EPOCH, \n",
        "          batch_size=BATCH_SIZE)"
      ],
      "id": "xC7EYAmo0ZX1"
    },
    {
      "cell_type": "markdown",
      "metadata": {
        "id": "AnEvI9-k0ZX2"
      },
      "source": [
        "### 추론 데이터셋 만들기"
      ],
      "id": "AnEvI9-k0ZX2"
    },
    {
      "cell_type": "code",
      "execution_count": 15,
      "metadata": {
        "colab": {
          "base_uri": "https://localhost:8080/"
        },
        "id": "BwRh0tO10ZX2",
        "outputId": "1a5fae73-b64c-46cc-bf76-55fc9a8a04cf"
      },
      "outputs": [
        {
          "output_type": "stream",
          "name": "stderr",
          "text": [
            "100%|██████████| 6912/6912 [00:07<00:00, 953.19it/s]\n"
          ]
        }
      ],
      "source": [
        "test_data = []\n",
        "test_label = []\n",
        "\n",
        "tmp = pd.read_csv(w_list[-1])\n",
        "tmp = tmp.replace(\" \", np.nan)\n",
        "# 이전값을 사용\n",
        "tmp = tmp.fillna(method = 'pad')\n",
        "tmp = tmp.fillna(0)\n",
        "    \n",
        "#tmp.loc[:, [\"wl_1018662\", \"wl_1018680\", \"wl_1018683\", \"wl_1019630\"]] = tmp.loc[:, [\"wl_1018662\", \"wl_1018680\", \"wl_1018683\", \"wl_1019630\"]]*100\n",
        "    \n",
        "for j in tqdm(range(4032, len(tmp)-432)):\n",
        "    test_data.append(np.array(tmp.loc[j:j + 431, [\"swl\", \"inf\", \"sfw\", \"ecpc\",\n",
        "                                                    \"tototf\", \"tide_level\",\n",
        "                                                    \"fw_1018662\", \"fw_1018680\",\n",
        "                                                    \"fw_1018683\", \"fw_1019630\"]]).astype(float))\n",
        "        \n",
        "    test_label.append(np.array(tmp.loc[j + 432, [\"wl_1018662\", \"wl_1018680\",\n",
        "                                                    \"wl_1018683\", \"wl_1019630\"]]).astype(float))"
      ],
      "id": "BwRh0tO10ZX2"
    },
    {
      "cell_type": "code",
      "execution_count": 16,
      "metadata": {
        "colab": {
          "base_uri": "https://localhost:8080/"
        },
        "id": "q-85FZxM0ZX3",
        "outputId": "c5707681-6cb6-4852-ea89-fd726322e5d2"
      },
      "outputs": [
        {
          "output_type": "stream",
          "name": "stdout",
          "text": [
            "(6912, 432, 10)\n",
            "(6912, 4)\n"
          ]
        }
      ],
      "source": [
        "test_data = np.array(test_data)\n",
        "test_label = np.array(test_label)\n",
        "\n",
        "print(test_data.shape)\n",
        "print(test_label.shape)"
      ],
      "id": "q-85FZxM0ZX3"
    },
    {
      "cell_type": "markdown",
      "metadata": {
        "id": "NouC64nF0ZX4"
      },
      "source": [
        "### 제출 파일 만들기"
      ],
      "id": "NouC64nF0ZX4"
    },
    {
      "cell_type": "code",
      "execution_count": 17,
      "metadata": {
        "id": "h2VVl8Qq0ZX4"
      },
      "outputs": [],
      "source": [
        "pred = model.predict(test_data)"
      ],
      "id": "h2VVl8Qq0ZX4"
    },
    {
      "cell_type": "code",
      "execution_count": 18,
      "metadata": {
        "id": "Ww6Y-CSA0ZX5"
      },
      "outputs": [],
      "source": [
        "pred = pd.DataFrame(pred)"
      ],
      "id": "Ww6Y-CSA0ZX5"
    },
    {
      "cell_type": "code",
      "execution_count": 19,
      "metadata": {
        "id": "FXlcJovS0ZX5"
      },
      "outputs": [],
      "source": [
        "sample_submission = pd.read_csv(\"/content/drive/MyDrive/Study/Dacon/dam/sample_submission.csv\")\n",
        "\n",
        "sample_submission[\"wl_1018662\"] = pred[0]\n",
        "sample_submission[\"wl_1018680\"] = pred[1]\n",
        "sample_submission[\"wl_1018683\"] = pred[2]\n",
        "sample_submission[\"wl_1019630\"] = pred[3]"
      ],
      "id": "FXlcJovS0ZX5"
    },
    {
      "cell_type": "code",
      "execution_count": 20,
      "metadata": {
        "id": "KiIli3180ZX5"
      },
      "outputs": [],
      "source": [
        "import datetime\n",
        "now=datetime.datetime.now()\n",
        "file_name = 'submission' + str(now.month)+ str(now.day) + '.csv'\n",
        "sample_submission.to_csv(file_name, index = False)"
      ],
      "id": "KiIli3180ZX5"
    },
    {
      "cell_type": "code",
      "source": [
        "import datetime\n",
        "print(str(now.month), str(now.day))"
      ],
      "metadata": {
        "colab": {
          "base_uri": "https://localhost:8080/"
        },
        "id": "OOItkZ3IPV8u",
        "outputId": "ac146389-8d4c-462a-bb5c-8264a61d253e"
      },
      "id": "OOItkZ3IPV8u",
      "execution_count": 21,
      "outputs": [
        {
          "output_type": "stream",
          "name": "stdout",
          "text": [
            "8 3\n"
          ]
        }
      ]
    },
    {
      "cell_type": "markdown",
      "source": [
        "# <8월 3일 회고>\n",
        "### 변경점\n",
        "---\n",
        "- **fw, wl 데이터를 제외하고 기존 데이터를 부분 Standard Scaling 처리했다**  \n",
        " -> 999등이 나옴 스케일링은 안하는게 더 좋을것 같다는 판단이 들었음\n",
        "- **fw, wl 데이터를 제외하고 기존 데이터를 부분 MinMax Scaling 처리했다**  \n",
        " -> 이것도 999등이 나옴 스케일링이 오히려 악영향을 미친다는 생각이 듬  \n",
        "- **콜백기능 추가!**\n",
        " ### 앞으로 할 것\n",
        "- **강수량 데이터를 이용!**  \n",
        "    -> 대부분 0의값을 가지거나 적은 값을 가지기 때문에 *10등의 증폭을 해서 데이터를 적용해볼 예정!\n",
        "- **전체적으로 스케일링을 하고 딥러닝처럼 역전파로 다시 연산해서 구해보는 방식을 써보는 것도 좋을 것같다!**"
      ],
      "metadata": {
        "id": "mbxJCPQL9o5e"
      },
      "id": "mbxJCPQL9o5e"
    },
    {
      "cell_type": "code",
      "source": [
        ""
      ],
      "metadata": {
        "id": "1OGbpvniQRFy"
      },
      "id": "1OGbpvniQRFy",
      "execution_count": 21,
      "outputs": []
    }
  ],
  "metadata": {
    "kernelspec": {
      "display_name": "Python 3",
      "name": "python3"
    },
    "language_info": {
      "name": "python"
    },
    "colab": {
      "name": "Dam0803.ipynb",
      "provenance": [],
      "collapsed_sections": [],
      "machine_shape": "hm"
    },
    "gpuClass": "standard",
    "accelerator": "GPU"
  },
  "nbformat": 4,
  "nbformat_minor": 5
}
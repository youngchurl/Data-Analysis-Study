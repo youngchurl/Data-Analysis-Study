{
  "cells": [
    {
      "cell_type": "markdown",
      "metadata": {
        "id": "veP2RL1_0ZXh"
      },
      "source": [
        "### 필요한 라이브러리 불러오기"
      ],
      "id": "veP2RL1_0ZXh"
    },
    {
      "cell_type": "code",
      "source": [
        "from google.colab import drive\n",
        "drive.mount('/content/drive')"
      ],
      "metadata": {
        "colab": {
          "base_uri": "https://localhost:8080/"
        },
        "id": "ulfmhpST0cbs",
        "outputId": "d4d206b7-c559-43f2-9e55-80958d8279d6"
      },
      "id": "ulfmhpST0cbs",
      "execution_count": null,
      "outputs": [
        {
          "output_type": "stream",
          "name": "stdout",
          "text": [
            "Drive already mounted at /content/drive; to attempt to forcibly remount, call drive.mount(\"/content/drive\", force_remount=True).\n"
          ]
        }
      ]
    },
    {
      "cell_type": "code",
      "execution_count": null,
      "metadata": {
        "colab": {
          "base_uri": "https://localhost:8080/",
          "height": 54
        },
        "id": "ryq6zlZk0ZXp",
        "outputId": "ecea2800-3f99-44cf-815e-1a5fc2589f22"
      },
      "outputs": [
        {
          "output_type": "execute_result",
          "data": {
            "text/plain": [
              "'#GPU 자원이 부족한 경우 아래 코드를 이용하세요\\nfrom tensorflow.compat.v1 import ConfigProto\\nfrom tensorflow.compat.v1 import InteractiveSession\\n\\nconfig = ConfigProto()\\nconfig.gpu_options.allow_growth = True\\nsession = InteractiveSession(config=config)'"
            ],
            "application/vnd.google.colaboratory.intrinsic+json": {
              "type": "string"
            }
          },
          "metadata": {},
          "execution_count": 2
        }
      ],
      "source": [
        "import pandas as pd\n",
        "import numpy as np\n",
        "\n",
        "from glob import glob\n",
        "from tqdm import tqdm\n",
        "from scipy import interpolate\n",
        "\n",
        "import tensorflow as tf\n",
        "from keras.models import Sequential\n",
        "from keras.layers import Dense, LSTM, GRU, AveragePooling1D, GlobalAveragePooling1D\n",
        "\n",
        "'''#GPU 자원이 부족한 경우 아래 코드를 이용하세요\n",
        "from tensorflow.compat.v1 import ConfigProto\n",
        "from tensorflow.compat.v1 import InteractiveSession\n",
        "\n",
        "config = ConfigProto()\n",
        "config.gpu_options.allow_growth = True\n",
        "session = InteractiveSession(config=config)'''"
      ],
      "id": "ryq6zlZk0ZXp"
    },
    {
      "cell_type": "markdown",
      "metadata": {
        "id": "db4DUlhq0ZXt"
      },
      "source": [
        "### 데이터 전처리"
      ],
      "id": "db4DUlhq0ZXt"
    },
    {
      "cell_type": "code",
      "execution_count": null,
      "metadata": {
        "colab": {
          "base_uri": "https://localhost:8080/"
        },
        "id": "yEAXbeXv0ZXu",
        "outputId": "c0be3838-b3a4-44fb-f3dd-e4f38fe2dd54"
      },
      "outputs": [
        {
          "output_type": "execute_result",
          "data": {
            "text/plain": [
              "['/content/drive/MyDrive/Study/Dacon/dam/water_data/data_2012.csv',\n",
              " '/content/drive/MyDrive/Study/Dacon/dam/water_data/data_2013.csv',\n",
              " '/content/drive/MyDrive/Study/Dacon/dam/water_data/data_2014.csv',\n",
              " '/content/drive/MyDrive/Study/Dacon/dam/water_data/data_2015.csv',\n",
              " '/content/drive/MyDrive/Study/Dacon/dam/water_data/data_2016.csv',\n",
              " '/content/drive/MyDrive/Study/Dacon/dam/water_data/data_2017.csv',\n",
              " '/content/drive/MyDrive/Study/Dacon/dam/water_data/data_2018.csv',\n",
              " '/content/drive/MyDrive/Study/Dacon/dam/water_data/data_2019.csv',\n",
              " '/content/drive/MyDrive/Study/Dacon/dam/water_data/data_2020.csv',\n",
              " '/content/drive/MyDrive/Study/Dacon/dam/water_data/data_2021.csv',\n",
              " '/content/drive/MyDrive/Study/Dacon/dam/water_data/data_2022.csv']"
            ]
          },
          "metadata": {},
          "execution_count": 3
        }
      ],
      "source": [
        "w_list = sorted(glob(\"/content/drive/MyDrive/Study/Dacon/dam/water_data/*.csv\"))\n",
        "w_list"
      ],
      "id": "yEAXbeXv0ZXu"
    },
    {
      "cell_type": "code",
      "execution_count": null,
      "metadata": {
        "colab": {
          "base_uri": "https://localhost:8080/"
        },
        "id": "EFqsjSIG0ZXv",
        "outputId": "dd81266b-741e-49a2-d996-dc51f39d747c"
      },
      "outputs": [
        {
          "output_type": "execute_result",
          "data": {
            "text/plain": [
              "(26496, 15)"
            ]
          },
          "metadata": {},
          "execution_count": 4
        }
      ],
      "source": [
        "pd.read_csv(w_list[0]).shape"
      ],
      "id": "EFqsjSIG0ZXv"
    },
    {
      "cell_type": "code",
      "execution_count": null,
      "metadata": {
        "colab": {
          "base_uri": "https://localhost:8080/",
          "height": 175
        },
        "id": "fBJvHIPN0ZXv",
        "outputId": "75a8f31e-d2eb-4edf-ce1f-6074a766d041"
      },
      "outputs": [
        {
          "output_type": "execute_result",
          "data": {
            "text/plain": [
              "              ymdhm     swl    inf     sfw   ecpc  tototf  tide_level  \\\n",
              "0  2012-05-01 00:00  24.800  555.0  219.07  24.93   555.0       445.0   \n",
              "1  2012-05-01 00:10  24.794  464.6  218.86  25.15   562.9       449.0   \n",
              "2  2012-05-01 00:20  24.789  478.1  218.69  25.31   576.4       451.0   \n",
              "3  2012-05-01 00:30  24.789  464.8  218.69  25.31   563.1       452.0   \n",
              "\n",
              "   wl_1018662  fw_1018662  wl_1018680  fw_1018680  wl_1018683  fw_1018683  \\\n",
              "0       310.7      469.05       300.2         0.0       290.0      729.80   \n",
              "1       314.7      498.00       300.2         0.0       290.0      731.48   \n",
              "2       313.7      490.68       301.2         0.0       290.0      726.42   \n",
              "3       311.7      476.21       301.2         0.0       290.0      726.42   \n",
              "\n",
              "   wl_1019630  fw_1019630  \n",
              "0       275.3      540.18  \n",
              "1       275.3      540.18  \n",
              "2       275.3      540.18  \n",
              "3       276.3      552.17  "
            ],
            "text/html": [
              "\n",
              "  <div id=\"df-81636b74-7189-49fe-813c-eefafce4d78d\">\n",
              "    <div class=\"colab-df-container\">\n",
              "      <div>\n",
              "<style scoped>\n",
              "    .dataframe tbody tr th:only-of-type {\n",
              "        vertical-align: middle;\n",
              "    }\n",
              "\n",
              "    .dataframe tbody tr th {\n",
              "        vertical-align: top;\n",
              "    }\n",
              "\n",
              "    .dataframe thead th {\n",
              "        text-align: right;\n",
              "    }\n",
              "</style>\n",
              "<table border=\"1\" class=\"dataframe\">\n",
              "  <thead>\n",
              "    <tr style=\"text-align: right;\">\n",
              "      <th></th>\n",
              "      <th>ymdhm</th>\n",
              "      <th>swl</th>\n",
              "      <th>inf</th>\n",
              "      <th>sfw</th>\n",
              "      <th>ecpc</th>\n",
              "      <th>tototf</th>\n",
              "      <th>tide_level</th>\n",
              "      <th>wl_1018662</th>\n",
              "      <th>fw_1018662</th>\n",
              "      <th>wl_1018680</th>\n",
              "      <th>fw_1018680</th>\n",
              "      <th>wl_1018683</th>\n",
              "      <th>fw_1018683</th>\n",
              "      <th>wl_1019630</th>\n",
              "      <th>fw_1019630</th>\n",
              "    </tr>\n",
              "  </thead>\n",
              "  <tbody>\n",
              "    <tr>\n",
              "      <th>0</th>\n",
              "      <td>2012-05-01 00:00</td>\n",
              "      <td>24.800</td>\n",
              "      <td>555.0</td>\n",
              "      <td>219.07</td>\n",
              "      <td>24.93</td>\n",
              "      <td>555.0</td>\n",
              "      <td>445.0</td>\n",
              "      <td>310.7</td>\n",
              "      <td>469.05</td>\n",
              "      <td>300.2</td>\n",
              "      <td>0.0</td>\n",
              "      <td>290.0</td>\n",
              "      <td>729.80</td>\n",
              "      <td>275.3</td>\n",
              "      <td>540.18</td>\n",
              "    </tr>\n",
              "    <tr>\n",
              "      <th>1</th>\n",
              "      <td>2012-05-01 00:10</td>\n",
              "      <td>24.794</td>\n",
              "      <td>464.6</td>\n",
              "      <td>218.86</td>\n",
              "      <td>25.15</td>\n",
              "      <td>562.9</td>\n",
              "      <td>449.0</td>\n",
              "      <td>314.7</td>\n",
              "      <td>498.00</td>\n",
              "      <td>300.2</td>\n",
              "      <td>0.0</td>\n",
              "      <td>290.0</td>\n",
              "      <td>731.48</td>\n",
              "      <td>275.3</td>\n",
              "      <td>540.18</td>\n",
              "    </tr>\n",
              "    <tr>\n",
              "      <th>2</th>\n",
              "      <td>2012-05-01 00:20</td>\n",
              "      <td>24.789</td>\n",
              "      <td>478.1</td>\n",
              "      <td>218.69</td>\n",
              "      <td>25.31</td>\n",
              "      <td>576.4</td>\n",
              "      <td>451.0</td>\n",
              "      <td>313.7</td>\n",
              "      <td>490.68</td>\n",
              "      <td>301.2</td>\n",
              "      <td>0.0</td>\n",
              "      <td>290.0</td>\n",
              "      <td>726.42</td>\n",
              "      <td>275.3</td>\n",
              "      <td>540.18</td>\n",
              "    </tr>\n",
              "    <tr>\n",
              "      <th>3</th>\n",
              "      <td>2012-05-01 00:30</td>\n",
              "      <td>24.789</td>\n",
              "      <td>464.8</td>\n",
              "      <td>218.69</td>\n",
              "      <td>25.31</td>\n",
              "      <td>563.1</td>\n",
              "      <td>452.0</td>\n",
              "      <td>311.7</td>\n",
              "      <td>476.21</td>\n",
              "      <td>301.2</td>\n",
              "      <td>0.0</td>\n",
              "      <td>290.0</td>\n",
              "      <td>726.42</td>\n",
              "      <td>276.3</td>\n",
              "      <td>552.17</td>\n",
              "    </tr>\n",
              "  </tbody>\n",
              "</table>\n",
              "</div>\n",
              "      <button class=\"colab-df-convert\" onclick=\"convertToInteractive('df-81636b74-7189-49fe-813c-eefafce4d78d')\"\n",
              "              title=\"Convert this dataframe to an interactive table.\"\n",
              "              style=\"display:none;\">\n",
              "        \n",
              "  <svg xmlns=\"http://www.w3.org/2000/svg\" height=\"24px\"viewBox=\"0 0 24 24\"\n",
              "       width=\"24px\">\n",
              "    <path d=\"M0 0h24v24H0V0z\" fill=\"none\"/>\n",
              "    <path d=\"M18.56 5.44l.94 2.06.94-2.06 2.06-.94-2.06-.94-.94-2.06-.94 2.06-2.06.94zm-11 1L8.5 8.5l.94-2.06 2.06-.94-2.06-.94L8.5 2.5l-.94 2.06-2.06.94zm10 10l.94 2.06.94-2.06 2.06-.94-2.06-.94-.94-2.06-.94 2.06-2.06.94z\"/><path d=\"M17.41 7.96l-1.37-1.37c-.4-.4-.92-.59-1.43-.59-.52 0-1.04.2-1.43.59L10.3 9.45l-7.72 7.72c-.78.78-.78 2.05 0 2.83L4 21.41c.39.39.9.59 1.41.59.51 0 1.02-.2 1.41-.59l7.78-7.78 2.81-2.81c.8-.78.8-2.07 0-2.86zM5.41 20L4 18.59l7.72-7.72 1.47 1.35L5.41 20z\"/>\n",
              "  </svg>\n",
              "      </button>\n",
              "      \n",
              "  <style>\n",
              "    .colab-df-container {\n",
              "      display:flex;\n",
              "      flex-wrap:wrap;\n",
              "      gap: 12px;\n",
              "    }\n",
              "\n",
              "    .colab-df-convert {\n",
              "      background-color: #E8F0FE;\n",
              "      border: none;\n",
              "      border-radius: 50%;\n",
              "      cursor: pointer;\n",
              "      display: none;\n",
              "      fill: #1967D2;\n",
              "      height: 32px;\n",
              "      padding: 0 0 0 0;\n",
              "      width: 32px;\n",
              "    }\n",
              "\n",
              "    .colab-df-convert:hover {\n",
              "      background-color: #E2EBFA;\n",
              "      box-shadow: 0px 1px 2px rgba(60, 64, 67, 0.3), 0px 1px 3px 1px rgba(60, 64, 67, 0.15);\n",
              "      fill: #174EA6;\n",
              "    }\n",
              "\n",
              "    [theme=dark] .colab-df-convert {\n",
              "      background-color: #3B4455;\n",
              "      fill: #D2E3FC;\n",
              "    }\n",
              "\n",
              "    [theme=dark] .colab-df-convert:hover {\n",
              "      background-color: #434B5C;\n",
              "      box-shadow: 0px 1px 3px 1px rgba(0, 0, 0, 0.15);\n",
              "      filter: drop-shadow(0px 1px 2px rgba(0, 0, 0, 0.3));\n",
              "      fill: #FFFFFF;\n",
              "    }\n",
              "  </style>\n",
              "\n",
              "      <script>\n",
              "        const buttonEl =\n",
              "          document.querySelector('#df-81636b74-7189-49fe-813c-eefafce4d78d button.colab-df-convert');\n",
              "        buttonEl.style.display =\n",
              "          google.colab.kernel.accessAllowed ? 'block' : 'none';\n",
              "\n",
              "        async function convertToInteractive(key) {\n",
              "          const element = document.querySelector('#df-81636b74-7189-49fe-813c-eefafce4d78d');\n",
              "          const dataTable =\n",
              "            await google.colab.kernel.invokeFunction('convertToInteractive',\n",
              "                                                     [key], {});\n",
              "          if (!dataTable) return;\n",
              "\n",
              "          const docLinkHtml = 'Like what you see? Visit the ' +\n",
              "            '<a target=\"_blank\" href=https://colab.research.google.com/notebooks/data_table.ipynb>data table notebook</a>'\n",
              "            + ' to learn more about interactive tables.';\n",
              "          element.innerHTML = '';\n",
              "          dataTable['output_type'] = 'display_data';\n",
              "          await google.colab.output.renderOutput(dataTable, element);\n",
              "          const docLink = document.createElement('div');\n",
              "          docLink.innerHTML = docLinkHtml;\n",
              "          element.appendChild(docLink);\n",
              "        }\n",
              "      </script>\n",
              "    </div>\n",
              "  </div>\n",
              "  "
            ]
          },
          "metadata": {},
          "execution_count": 5
        }
      ],
      "source": [
        "pd.read_csv(w_list[0]).head(4)"
      ],
      "id": "fBJvHIPN0ZXv"
    },
    {
      "cell_type": "code",
      "execution_count": null,
      "metadata": {
        "colab": {
          "base_uri": "https://localhost:8080/"
        },
        "id": "Lb7RXz8i0ZXw",
        "outputId": "e1f28953-81d5-4a48-abbb-5b6f5d7e463f"
      },
      "outputs": [
        {
          "output_type": "stream",
          "name": "stderr",
          "text": [
            "100%|██████████| 26064/26064 [00:28<00:00, 913.30it/s]\n",
            "100%|██████████| 26064/26064 [00:27<00:00, 948.24it/s]\n",
            "100%|██████████| 26064/26064 [00:26<00:00, 965.98it/s]\n",
            "100%|██████████| 26064/26064 [00:27<00:00, 954.54it/s]\n",
            "100%|██████████| 26064/26064 [00:27<00:00, 955.57it/s]\n",
            "100%|██████████| 26064/26064 [00:27<00:00, 960.67it/s]\n",
            "100%|██████████| 26064/26064 [00:27<00:00, 952.60it/s]\n",
            "100%|██████████| 26064/26064 [00:27<00:00, 949.70it/s]\n",
            "100%|██████████| 26064/26064 [00:27<00:00, 960.87it/s]\n",
            "100%|██████████| 26064/26064 [00:27<00:00, 952.95it/s]\n"
          ]
        }
      ],
      "source": [
        "train_data = []\n",
        "train_label = []\n",
        "num = 0\n",
        "\n",
        "for i in w_list[:-1]:\n",
        "    \n",
        "    tmp = pd.read_csv(i)\n",
        "    tmp = tmp.replace(\" \", np.nan)\n",
        "    tmp = tmp.interpolate(method = 'values')\n",
        "    tmp = tmp.fillna(0)\n",
        "    \n",
        "    for j in tqdm(range(len(tmp)-432)):\n",
        "        train_data.append(np.array(tmp.loc[j:j + 431, [\"swl\", \"inf\", \"sfw\", \"ecpc\",\n",
        "                                                       \"tototf\", \"tide_level\",\n",
        "                                                       \"fw_1018662\", \"fw_1018680\",\n",
        "                                                       \"fw_1018683\", \"fw_1019630\"]]).astype(float))\n",
        "        \n",
        "        train_label.append(np.array(tmp.loc[j + 432, [\"wl_1018662\", \"wl_1018680\",\n",
        "                                                      \"wl_1018683\", \"wl_1019630\"]]).astype(float))"
      ],
      "id": "Lb7RXz8i0ZXw"
    },
    {
      "cell_type": "code",
      "execution_count": null,
      "metadata": {
        "colab": {
          "base_uri": "https://localhost:8080/"
        },
        "id": "ErWBWEM90ZXy",
        "outputId": "d7e4ac95-b4ea-4092-d279-53468ce7f798"
      },
      "outputs": [
        {
          "output_type": "stream",
          "name": "stdout",
          "text": [
            "(260640, 432, 10)\n",
            "(260640, 4)\n"
          ]
        }
      ],
      "source": [
        "train_data = np.array(train_data)\n",
        "train_label = np.array(train_label)\n",
        "\n",
        "print(train_data.shape)\n",
        "print(train_label.shape)"
      ],
      "id": "ErWBWEM90ZXy"
    },
    {
      "cell_type": "markdown",
      "metadata": {
        "id": "q64P-YKy0ZX0"
      },
      "source": [
        "### 모델링 및 모델 학습"
      ],
      "id": "q64P-YKy0ZX0"
    },
    {
      "cell_type": "code",
      "execution_count": null,
      "metadata": {
        "id": "BATsYCCi0ZX0"
      },
      "outputs": [],
      "source": [
        "input_shape = (train_data[0].shape[0], train_data[0].shape[1])\n",
        "\n",
        "model = Sequential()\n",
        "model.add(GRU(512, input_shape=input_shape))\n",
        "# model.add(Dense(128, activation = 'relu'))\n",
        "model.add(Dense(4, activation = 'relu'))\n",
        "\n",
        "optimizer = tf.optimizers.RMSprop(0.0005)\n",
        "\n",
        "model.compile(optimizer=optimizer,loss='mse', metrics=['mae'])"
      ],
      "id": "BATsYCCi0ZX0"
    },
    {
      "cell_type": "code",
      "execution_count": null,
      "metadata": {
        "colab": {
          "base_uri": "https://localhost:8080/"
        },
        "id": "xC7EYAmo0ZX1",
        "outputId": "d8c4d23e-f05f-4d22-df82-0d50051d02d9"
      },
      "outputs": [
        {
          "output_type": "stream",
          "name": "stdout",
          "text": [
            "Epoch 1/15\n",
            "1019/1019 [==============================] - 131s 125ms/step - loss: 42418.2422 - mae: 180.9142\n",
            "Epoch 2/15\n",
            "1019/1019 [==============================] - 128s 126ms/step - loss: 2841.6448 - mae: 23.4947\n",
            "Epoch 3/15\n",
            "1019/1019 [==============================] - 128s 125ms/step - loss: 683.0254 - mae: 8.7152\n",
            "Epoch 4/15\n",
            "1019/1019 [==============================] - 128s 125ms/step - loss: 380.7025 - mae: 6.9864\n",
            "Epoch 5/15\n",
            "1019/1019 [==============================] - 127s 125ms/step - loss: 266.5389 - mae: 6.0927\n",
            "Epoch 6/15\n",
            "1019/1019 [==============================] - 127s 125ms/step - loss: 204.2237 - mae: 5.6130\n",
            "Epoch 7/15\n",
            "1019/1019 [==============================] - 127s 125ms/step - loss: 165.5057 - mae: 5.2296\n",
            "Epoch 8/15\n",
            "1019/1019 [==============================] - 127s 125ms/step - loss: 147.8658 - mae: 5.0149\n",
            "Epoch 9/15\n",
            "1019/1019 [==============================] - 127s 125ms/step - loss: 135.6986 - mae: 4.8476\n",
            "Epoch 10/15\n",
            "1019/1019 [==============================] - 127s 125ms/step - loss: 127.8003 - mae: 4.7479\n",
            "Epoch 11/15\n",
            "1019/1019 [==============================] - 127s 125ms/step - loss: 126.7696 - mae: 4.7402\n",
            "Epoch 12/15\n",
            "1019/1019 [==============================] - 127s 125ms/step - loss: 112.3464 - mae: 4.6309\n",
            "Epoch 13/15\n",
            "1019/1019 [==============================] - 127s 125ms/step - loss: 104.5154 - mae: 4.5734\n",
            "Epoch 14/15\n",
            "1019/1019 [==============================] - 127s 125ms/step - loss: 99.8094 - mae: 4.5573\n",
            "Epoch 15/15\n",
            "1019/1019 [==============================] - 127s 125ms/step - loss: 94.9910 - mae: 4.4553\n"
          ]
        },
        {
          "output_type": "execute_result",
          "data": {
            "text/plain": [
              "<keras.callbacks.History at 0x7fd6a6f5bf50>"
            ]
          },
          "metadata": {},
          "execution_count": 9
        }
      ],
      "source": [
        "model.fit(train_data, train_label, epochs=15, batch_size=256)"
      ],
      "id": "xC7EYAmo0ZX1"
    },
    {
      "cell_type": "markdown",
      "metadata": {
        "id": "AnEvI9-k0ZX2"
      },
      "source": [
        "### 추론 데이터셋 만들기"
      ],
      "id": "AnEvI9-k0ZX2"
    },
    {
      "cell_type": "code",
      "execution_count": null,
      "metadata": {
        "colab": {
          "base_uri": "https://localhost:8080/"
        },
        "id": "BwRh0tO10ZX2",
        "outputId": "a225d138-6c4a-4068-b07d-49ab2b8fe9a1"
      },
      "outputs": [
        {
          "output_type": "stream",
          "name": "stderr",
          "text": [
            "100%|██████████| 6912/6912 [00:07<00:00, 951.51it/s]\n"
          ]
        }
      ],
      "source": [
        "test_data = []\n",
        "test_label = []\n",
        "\n",
        "tmp = pd.read_csv(w_list[-1])\n",
        "tmp = tmp.replace(\" \", np.nan)\n",
        "# 이전값을 사용\n",
        "tmp = tmp.fillna(method = 'pad')\n",
        "tmp = tmp.fillna(0)\n",
        "    \n",
        "#tmp.loc[:, [\"wl_1018662\", \"wl_1018680\", \"wl_1018683\", \"wl_1019630\"]] = tmp.loc[:, [\"wl_1018662\", \"wl_1018680\", \"wl_1018683\", \"wl_1019630\"]]*100\n",
        "    \n",
        "for j in tqdm(range(4032, len(tmp)-432)):\n",
        "    test_data.append(np.array(tmp.loc[j:j + 431, [\"swl\", \"inf\", \"sfw\", \"ecpc\",\n",
        "                                                    \"tototf\", \"tide_level\",\n",
        "                                                    \"fw_1018662\", \"fw_1018680\",\n",
        "                                                    \"fw_1018683\", \"fw_1019630\"]]).astype(float))\n",
        "        \n",
        "    test_label.append(np.array(tmp.loc[j + 432, [\"wl_1018662\", \"wl_1018680\",\n",
        "                                                    \"wl_1018683\", \"wl_1019630\"]]).astype(float))"
      ],
      "id": "BwRh0tO10ZX2"
    },
    {
      "cell_type": "code",
      "execution_count": null,
      "metadata": {
        "colab": {
          "base_uri": "https://localhost:8080/"
        },
        "id": "q-85FZxM0ZX3",
        "outputId": "4eb6fd7f-bdc5-4b35-d0af-d35df44e4d64"
      },
      "outputs": [
        {
          "output_type": "stream",
          "name": "stdout",
          "text": [
            "(6912, 432, 10)\n",
            "(6912, 4)\n"
          ]
        }
      ],
      "source": [
        "test_data = np.array(test_data)\n",
        "test_label = np.array(test_label)\n",
        "\n",
        "print(test_data.shape)\n",
        "print(test_label.shape)"
      ],
      "id": "q-85FZxM0ZX3"
    },
    {
      "cell_type": "markdown",
      "metadata": {
        "id": "NouC64nF0ZX4"
      },
      "source": [
        "### 제출 파일 만들기"
      ],
      "id": "NouC64nF0ZX4"
    },
    {
      "cell_type": "code",
      "execution_count": null,
      "metadata": {
        "id": "h2VVl8Qq0ZX4"
      },
      "outputs": [],
      "source": [
        "pred = model.predict(test_data)"
      ],
      "id": "h2VVl8Qq0ZX4"
    },
    {
      "cell_type": "code",
      "execution_count": null,
      "metadata": {
        "id": "Ww6Y-CSA0ZX5"
      },
      "outputs": [],
      "source": [
        "pred = pd.DataFrame(pred)"
      ],
      "id": "Ww6Y-CSA0ZX5"
    },
    {
      "cell_type": "code",
      "execution_count": null,
      "metadata": {
        "id": "FXlcJovS0ZX5"
      },
      "outputs": [],
      "source": [
        "sample_submission = pd.read_csv(\"/content/drive/MyDrive/Study/Dacon/dam/sample_submission.csv\")\n",
        "\n",
        "sample_submission[\"wl_1018662\"] = pred[0]\n",
        "sample_submission[\"wl_1018680\"] = pred[1]\n",
        "sample_submission[\"wl_1018683\"] = pred[2]\n",
        "sample_submission[\"wl_1019630\"] = pred[3]"
      ],
      "id": "FXlcJovS0ZX5"
    },
    {
      "cell_type": "code",
      "execution_count": null,
      "metadata": {
        "id": "KiIli3180ZX5"
      },
      "outputs": [],
      "source": [
        "sample_submission.to_csv(\"submission.csv\", index = False)"
      ],
      "id": "KiIli3180ZX5"
    },
    {
      "cell_type": "code",
      "source": [
        ""
      ],
      "metadata": {
        "id": "mbxJCPQL9o5e"
      },
      "id": "mbxJCPQL9o5e",
      "execution_count": null,
      "outputs": []
    }
  ],
  "metadata": {
    "kernelspec": {
      "display_name": "Python 3",
      "name": "python3"
    },
    "language_info": {
      "name": "python"
    },
    "colab": {
      "name": "Dam0727.ipynb",
      "provenance": [],
      "collapsed_sections": [],
      "machine_shape": "hm"
    },
    "gpuClass": "standard",
    "accelerator": "GPU"
  },
  "nbformat": 4,
  "nbformat_minor": 5
}